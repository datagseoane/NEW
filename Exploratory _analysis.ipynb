{
 "cells": [
  {
   "cell_type": "markdown",
   "metadata": {},
   "source": [
    "<div class=\"alert alert-success h1\" role=\"alert\">\n",
    "    <b>Vueling Tech Hack</b>\n",
    "</div>"
   ]
  },
  {
   "cell_type": "markdown",
   "metadata": {},
   "source": [
    "por [Guillermo Seoane](https://www.linkedin.com/in/guilleseoane/)"
   ]
  },
  {
   "cell_type": "code",
   "execution_count": 1,
   "metadata": {},
   "outputs": [],
   "source": [
    "import pandas as pd\n",
    "import numpy as np\n",
    "\n",
    "import matplotlib.pyplot as plt\n",
    "import seaborn as sns\n",
    "\n",
    "import warnings\n",
    "warnings.filterwarnings(\"ignore\")\n"
   ]
  },
  {
   "cell_type": "markdown",
   "metadata": {},
   "source": [
    "Download 'Mapping Destination Countries':"
   ]
  },
  {
   "cell_type": "markdown",
   "metadata": {},
   "source": [
    "Descarrega el data set Airlines Delay: Airline on-time statistics and delay causes i carrega’l a un Pandas Dataframe. Explora les dades que conté, explica breument quines variables hi ha i queda’t únicament amb les columnes que consideris rellevants. Justifica la teva elecció."
   ]
  },
  {
   "cell_type": "code",
   "execution_count": 2,
   "metadata": {},
   "outputs": [],
   "source": [
    "df = pd.read_csv(\"data/train.csv\")"
   ]
  },
  {
   "cell_type": "markdown",
   "metadata": {},
   "source": [
    "Obtenemos informacion basica del tipo de datos que contiene el dataset con la funcion *info()*."
   ]
  },
  {
   "cell_type": "code",
   "execution_count": 3,
   "metadata": {
    "scrolled": false
   },
   "outputs": [
    {
     "name": "stdout",
     "output_type": "stream",
     "text": [
      "<class 'pandas.core.frame.DataFrame'>\n",
      "RangeIndex: 276982 entries, 0 to 276981\n",
      "Data columns (total 8 columns):\n",
      " #   Column                 Non-Null Count   Dtype \n",
      "---  ------                 --------------   ----- \n",
      " 0   Date                   276982 non-null  object\n",
      " 1   Origin Country         276982 non-null  object\n",
      " 2   Origin Continent       276982 non-null  object\n",
      " 3   Destination Country    276982 non-null  int64 \n",
      " 4   Destination Continent  276982 non-null  object\n",
      " 5   Total flights          276982 non-null  object\n",
      " 6   Total seats            276982 non-null  object\n",
      " 7   Total ASKs             276982 non-null  object\n",
      "dtypes: int64(1), object(7)\n",
      "memory usage: 16.9+ MB\n"
     ]
    }
   ],
   "source": [
    "df.info()"
   ]
  },
  {
   "cell_type": "markdown",
   "metadata": {},
   "source": [
    "The information you will have is from the history of air routes. Datasets:\n",
    "\n",
    "* **Date:** Flight date.\n",
    "* **Origin_Country:** Country of origin.\n",
    "* **Origin_Continent:** Continent of origin.\n",
    "* **Destination_Country:** Country of destination.\n",
    "* **Destination_Continent:** Destination continent.\n",
    "* **Total_flights:** Total number of flights.\n",
    "* **Total_seats:** Total number of seats.\n",
    "* **Total_ASKs (Available Seat Kilometer):**. Total seat numbers available by the total number of km these seats have flown.  "
   ]
  },
  {
   "cell_type": "code",
   "execution_count": 4,
   "metadata": {},
   "outputs": [],
   "source": [
    "country_map = {\"China\": 0, \"India\": 1, \"Russian Federation\": 2, \"United Arab Emirates\": 3, \"Austria\": 4, \"Germany\": 5, \"Greece\": 6, \"Italy\": 7, \"Turkey\": 8, \"Belgium\": 9, \"Egypt\": 10, \"France\": 11, \"Morocco\": 12, \"Spain\": 13, \"Switzerland\": 14, \"United Kingdom\": 15, \"South Africa\": 16, \"United States\": 17, \"Canada\": 18, \"Czech Republic\": 19, \"Ukraine\": 20, \"Netherlands\": 21, \"Thailand\": 22, \"Denmark\": 23, \"Qatar\": 24}"
   ]
  },
  {
   "cell_type": "code",
   "execution_count": 5,
   "metadata": {},
   "outputs": [],
   "source": [
    "inv_country = {v: k for k, v in country_map.items()}"
   ]
  },
  {
   "cell_type": "code",
   "execution_count": 6,
   "metadata": {},
   "outputs": [],
   "source": [
    "df['Destination Country'].replace(inv_country, inplace=True)"
   ]
  },
  {
   "cell_type": "markdown",
   "metadata": {},
   "source": [
    "Utilizamos la función *head()* para visualizar las primeras filas de datos de la estructura del dataset"
   ]
  },
  {
   "cell_type": "code",
   "execution_count": 7,
   "metadata": {
    "scrolled": true
   },
   "outputs": [
    {
     "data": {
      "text/html": [
       "<div>\n",
       "<style scoped>\n",
       "    .dataframe tbody tr th:only-of-type {\n",
       "        vertical-align: middle;\n",
       "    }\n",
       "\n",
       "    .dataframe tbody tr th {\n",
       "        vertical-align: top;\n",
       "    }\n",
       "\n",
       "    .dataframe thead th {\n",
       "        text-align: right;\n",
       "    }\n",
       "</style>\n",
       "<table border=\"1\" class=\"dataframe\">\n",
       "  <thead>\n",
       "    <tr style=\"text-align: right;\">\n",
       "      <th></th>\n",
       "      <th>Date</th>\n",
       "      <th>Origin Country</th>\n",
       "      <th>Origin Continent</th>\n",
       "      <th>Destination Country</th>\n",
       "      <th>Destination Continent</th>\n",
       "      <th>Total flights</th>\n",
       "      <th>Total seats</th>\n",
       "      <th>Total ASKs</th>\n",
       "    </tr>\n",
       "  </thead>\n",
       "  <tbody>\n",
       "    <tr>\n",
       "      <th>0</th>\n",
       "      <td>Jul 2009</td>\n",
       "      <td>United Kingdom</td>\n",
       "      <td>Europe</td>\n",
       "      <td>Spain</td>\n",
       "      <td>Europe</td>\n",
       "      <td>9,032</td>\n",
       "      <td>1,531,683</td>\n",
       "      <td>2,447,559,137</td>\n",
       "    </tr>\n",
       "    <tr>\n",
       "      <th>1</th>\n",
       "      <td>Apr 2008</td>\n",
       "      <td>Lebanon</td>\n",
       "      <td>Middle East</td>\n",
       "      <td>Belgium</td>\n",
       "      <td>Europe</td>\n",
       "      <td>5</td>\n",
       "      <td>760</td>\n",
       "      <td>2,389,940</td>\n",
       "    </tr>\n",
       "    <tr>\n",
       "      <th>2</th>\n",
       "      <td>Apr 2005</td>\n",
       "      <td>Switzerland</td>\n",
       "      <td>Europe</td>\n",
       "      <td>France</td>\n",
       "      <td>Europe</td>\n",
       "      <td>1,471</td>\n",
       "      <td>158,661</td>\n",
       "      <td>66,533,450</td>\n",
       "    </tr>\n",
       "    <tr>\n",
       "      <th>3</th>\n",
       "      <td>Aug 2016</td>\n",
       "      <td>Israel</td>\n",
       "      <td>Middle East</td>\n",
       "      <td>Czech Republic</td>\n",
       "      <td>Europe</td>\n",
       "      <td>117</td>\n",
       "      <td>23,366</td>\n",
       "      <td>61,557,637</td>\n",
       "    </tr>\n",
       "    <tr>\n",
       "      <th>4</th>\n",
       "      <td>Feb 2019</td>\n",
       "      <td>Albania</td>\n",
       "      <td>Europe</td>\n",
       "      <td>Turkey</td>\n",
       "      <td>Europe</td>\n",
       "      <td>80</td>\n",
       "      <td>12,854</td>\n",
       "      <td>9,837,347</td>\n",
       "    </tr>\n",
       "  </tbody>\n",
       "</table>\n",
       "</div>"
      ],
      "text/plain": [
       "       Date  Origin Country Origin Continent Destination Country  \\\n",
       "0  Jul 2009  United Kingdom           Europe               Spain   \n",
       "1  Apr 2008         Lebanon      Middle East             Belgium   \n",
       "2  Apr 2005     Switzerland           Europe              France   \n",
       "3  Aug 2016          Israel      Middle East      Czech Republic   \n",
       "4  Feb 2019         Albania           Europe              Turkey   \n",
       "\n",
       "  Destination Continent Total flights Total seats     Total ASKs  \n",
       "0                Europe         9,032   1,531,683  2,447,559,137  \n",
       "1                Europe             5         760      2,389,940  \n",
       "2                Europe         1,471     158,661     66,533,450  \n",
       "3                Europe           117      23,366     61,557,637  \n",
       "4                Europe            80      12,854      9,837,347  "
      ]
     },
     "execution_count": 7,
     "metadata": {},
     "output_type": "execute_result"
    }
   ],
   "source": [
    "df.head(5)"
   ]
  },
  {
   "cell_type": "code",
   "execution_count": 8,
   "metadata": {},
   "outputs": [],
   "source": [
    "df[['Month', 'Year']] = df['Date'].str.rsplit(pat=' ', n=1, expand=True)\n",
    "df = df.drop('Date', axis=1)"
   ]
  },
  {
   "cell_type": "markdown",
   "metadata": {},
   "source": [
    "#### Enconding Month"
   ]
  },
  {
   "cell_type": "code",
   "execution_count": 9,
   "metadata": {},
   "outputs": [],
   "source": [
    "month_map = {'Jan': 1, 'Feb': 2, 'Mar': 3, 'Apr': 4, 'May': 5, 'Jun': 6, 'Jul': 7, 'Aug': 8, 'Sep': 9, 'Oct': 10, 'Nov': 11, 'Dec': 12}"
   ]
  },
  {
   "cell_type": "code",
   "execution_count": 10,
   "metadata": {},
   "outputs": [],
   "source": [
    "df['Month'] = df['Month'].map(month_map)"
   ]
  },
  {
   "cell_type": "markdown",
   "metadata": {},
   "source": [
    "#### Transformación de datos"
   ]
  },
  {
   "cell_type": "code",
   "execution_count": 11,
   "metadata": {},
   "outputs": [],
   "source": [
    "df['Year'] = df['Year'].astype(np.int64)\n",
    "df['Total flights'] = df['Total flights'].str.replace(\",\",\"\").astype(np.int64)\n",
    "df['Total seats'] = df['Total seats'].str.replace(\",\",\"\").astype(np.int64)\n",
    "df['Total ASKs'] = df['Total ASKs'].str.replace(\",\",\"\").astype(np.int64)"
   ]
  },
  {
   "cell_type": "markdown",
   "metadata": {},
   "source": [
    "Además añadiremos la siguiente información:\n",
    "* **Km:** Distance flown"
   ]
  },
  {
   "cell_type": "code",
   "execution_count": 12,
   "metadata": {},
   "outputs": [],
   "source": [
    "df['Km'] = (df['Total ASKs'] / df['Total seats'])"
   ]
  },
  {
   "cell_type": "code",
   "execution_count": 13,
   "metadata": {},
   "outputs": [],
   "source": [
    "df['Eficiencia_avión'] = df['Total flights'] / df['Km']"
   ]
  },
  {
   "cell_type": "code",
   "execution_count": 14,
   "metadata": {},
   "outputs": [],
   "source": [
    "df = df.fillna(0.0)"
   ]
  },
  {
   "cell_type": "markdown",
   "metadata": {},
   "source": [
    "<div class=\"alert alert-success h1\" role=\"alert\">\n",
    "    <b>Ánalisis exploratorio de datos</b>\n",
    "</div>"
   ]
  },
  {
   "cell_type": "markdown",
   "metadata": {},
   "source": [
    "#### Correlación de las columnas con el target"
   ]
  },
  {
   "cell_type": "code",
   "execution_count": 15,
   "metadata": {},
   "outputs": [],
   "source": [
    "columns = ['Month', 'Year','Origin Country', 'Origin Continent', 'Destination Country', \n",
    "         'Destination Continent', 'Total flights', 'Total seats', 'Km', 'Eficiencia_avión','Total ASKs']\n",
    "df = df[columns]"
   ]
  },
  {
   "cell_type": "code",
   "execution_count": 16,
   "metadata": {},
   "outputs": [
    {
     "data": {
      "text/plain": [
       "<AxesSubplot:>"
      ]
     },
     "execution_count": 16,
     "metadata": {},
     "output_type": "execute_result"
    },
    {
     "data": {
      "image/png": "[encoded data removed]",
      "text/plain": [
       "<Figure size 864x432 with 2 Axes>"
      ]
     },
     "metadata": {
      "needs_background": "light"
     },
     "output_type": "display_data"
    }
   ],
   "source": [
    "# Calculate correlation between each pair of variable\n",
    "corr_matrix=df.corr().round(2)\n",
    "\n",
    "# plot it\n",
    "plt.figure(figsize=(12, 6))\n",
    "sns.heatmap(corr_matrix, annot=True, annot_kws={\"size\": 8})"
   ]
  },
  {
   "cell_type": "markdown",
   "metadata": {},
   "source": [
    "En este primer análisis, nos permitiremos el tiempo de analizar nuestra base datos en relación a la columna objetivo **ASKs**. El número total de vuelos y el Available Seat Kilometer (ASK) están estrechamente relacionados, ya que ambos son indicadores importantes de la capacidad y eficiencia de una aerolínea o flota de aeronaves."
   ]
  },
  {
   "cell_type": "markdown",
   "metadata": {},
   "source": [
    "A continuación realizaremos un análisis exploratorio de los datos que nos permita comprender mejor los datos y encontrar insights"
   ]
  },
  {
   "cell_type": "markdown",
   "metadata": {},
   "source": [
    "**1. Capacidad de transporte total:** Al multiplicar el número total de vuelos por el ASK por vuelo, se puede obtener una estimación de la capacidad de transporte total de una aerolínea o flota de aeronaves."
   ]
  },
  {
   "cell_type": "code",
   "execution_count": 17,
   "metadata": {},
   "outputs": [],
   "source": [
    "min_ASKs = df[df['Total ASKs'] == df['Total ASKs'].min()]\n",
    "max_ASKs = df[df['Total ASKs'] == df['Total ASKs'].max()]"
   ]
  },
  {
   "cell_type": "code",
   "execution_count": 18,
   "metadata": {
    "scrolled": true
   },
   "outputs": [
    {
     "data": {
      "text/html": [
       "<div>\n",
       "<style scoped>\n",
       "    .dataframe tbody tr th:only-of-type {\n",
       "        vertical-align: middle;\n",
       "    }\n",
       "\n",
       "    .dataframe tbody tr th {\n",
       "        vertical-align: top;\n",
       "    }\n",
       "\n",
       "    .dataframe thead th {\n",
       "        text-align: right;\n",
       "    }\n",
       "</style>\n",
       "<table border=\"1\" class=\"dataframe\">\n",
       "  <thead>\n",
       "    <tr style=\"text-align: right;\">\n",
       "      <th></th>\n",
       "      <th>Month</th>\n",
       "      <th>Year</th>\n",
       "      <th>Origin Country</th>\n",
       "      <th>Origin Continent</th>\n",
       "      <th>Destination Country</th>\n",
       "      <th>Destination Continent</th>\n",
       "      <th>Total flights</th>\n",
       "      <th>Total seats</th>\n",
       "      <th>Km</th>\n",
       "      <th>Eficiencia_avión</th>\n",
       "      <th>Total ASKs</th>\n",
       "    </tr>\n",
       "  </thead>\n",
       "  <tbody>\n",
       "    <tr>\n",
       "      <th>211433</th>\n",
       "      <td>7</td>\n",
       "      <td>2019</td>\n",
       "      <td>United States</td>\n",
       "      <td>North America</td>\n",
       "      <td>United States</td>\n",
       "      <td>North America</td>\n",
       "      <td>771538</td>\n",
       "      <td>89374179</td>\n",
       "      <td>1458.065505</td>\n",
       "      <td>529.151809</td>\n",
       "      <td>130313407467</td>\n",
       "    </tr>\n",
       "  </tbody>\n",
       "</table>\n",
       "</div>"
      ],
      "text/plain": [
       "        Month  Year Origin Country Origin Continent Destination Country  \\\n",
       "211433      7  2019  United States    North America       United States   \n",
       "\n",
       "       Destination Continent  Total flights  Total seats           Km  \\\n",
       "211433         North America         771538     89374179  1458.065505   \n",
       "\n",
       "        Eficiencia_avión    Total ASKs  \n",
       "211433        529.151809  130313407467  "
      ]
     },
     "execution_count": 18,
     "metadata": {},
     "output_type": "execute_result"
    }
   ],
   "source": [
    "max_ASKs"
   ]
  },
  {
   "cell_type": "code",
   "execution_count": 19,
   "metadata": {
    "scrolled": true
   },
   "outputs": [
    {
     "data": {
      "text/html": [
       "<div>\n",
       "<style scoped>\n",
       "    .dataframe tbody tr th:only-of-type {\n",
       "        vertical-align: middle;\n",
       "    }\n",
       "\n",
       "    .dataframe tbody tr th {\n",
       "        vertical-align: top;\n",
       "    }\n",
       "\n",
       "    .dataframe thead th {\n",
       "        text-align: right;\n",
       "    }\n",
       "</style>\n",
       "<table border=\"1\" class=\"dataframe\">\n",
       "  <thead>\n",
       "    <tr style=\"text-align: right;\">\n",
       "      <th></th>\n",
       "      <th>Month</th>\n",
       "      <th>Year</th>\n",
       "      <th>Origin Country</th>\n",
       "      <th>Origin Continent</th>\n",
       "      <th>Destination Country</th>\n",
       "      <th>Destination Continent</th>\n",
       "      <th>Total flights</th>\n",
       "      <th>Total seats</th>\n",
       "      <th>Km</th>\n",
       "      <th>Eficiencia_avión</th>\n",
       "      <th>Total ASKs</th>\n",
       "    </tr>\n",
       "  </thead>\n",
       "  <tbody>\n",
       "    <tr>\n",
       "      <th>48188</th>\n",
       "      <td>7</td>\n",
       "      <td>2013</td>\n",
       "      <td>Monaco</td>\n",
       "      <td>Europe</td>\n",
       "      <td>France</td>\n",
       "      <td>Europe</td>\n",
       "      <td>1418</td>\n",
       "      <td>0</td>\n",
       "      <td>0.0</td>\n",
       "      <td>0.0</td>\n",
       "      <td>0</td>\n",
       "    </tr>\n",
       "    <tr>\n",
       "      <th>90453</th>\n",
       "      <td>7</td>\n",
       "      <td>2013</td>\n",
       "      <td>Indonesia</td>\n",
       "      <td>Asia</td>\n",
       "      <td>United States</td>\n",
       "      <td>North America</td>\n",
       "      <td>2</td>\n",
       "      <td>0</td>\n",
       "      <td>0.0</td>\n",
       "      <td>0.0</td>\n",
       "      <td>0</td>\n",
       "    </tr>\n",
       "    <tr>\n",
       "      <th>114199</th>\n",
       "      <td>5</td>\n",
       "      <td>2013</td>\n",
       "      <td>Monaco</td>\n",
       "      <td>Europe</td>\n",
       "      <td>France</td>\n",
       "      <td>Europe</td>\n",
       "      <td>1004</td>\n",
       "      <td>0</td>\n",
       "      <td>0.0</td>\n",
       "      <td>0.0</td>\n",
       "      <td>0</td>\n",
       "    </tr>\n",
       "  </tbody>\n",
       "</table>\n",
       "</div>"
      ],
      "text/plain": [
       "        Month  Year Origin Country Origin Continent Destination Country  \\\n",
       "48188       7  2013         Monaco           Europe              France   \n",
       "90453       7  2013      Indonesia             Asia       United States   \n",
       "114199      5  2013         Monaco           Europe              France   \n",
       "\n",
       "       Destination Continent  Total flights  Total seats   Km  \\\n",
       "48188                 Europe           1418            0  0.0   \n",
       "90453          North America              2            0  0.0   \n",
       "114199                Europe           1004            0  0.0   \n",
       "\n",
       "        Eficiencia_avión  Total ASKs  \n",
       "48188                0.0           0  \n",
       "90453                0.0           0  \n",
       "114199               0.0           0  "
      ]
     },
     "execution_count": 19,
     "metadata": {},
     "output_type": "execute_result"
    }
   ],
   "source": [
    "min_ASKs"
   ]
  },
  {
   "cell_type": "markdown",
   "metadata": {},
   "source": [
    "En terminos de carga se observa que las rutas en Estados Unidos son las más rentables por contra de Monaco y Francia. Podemos suponer un error al no tener el número de asientos en los vuelos."
   ]
  },
  {
   "cell_type": "markdown",
   "metadata": {},
   "source": [
    "**2. Eficiencia del avión:** El número de vuelos totales y la distancia total recorrida pueden utilizarse para evaluar la eficiencia del avión. Si el número de vuelos es alto y la distancia recorrida es baja, esto sugiere que el avión está siendo utilizado de manera eficiente."
   ]
  },
  {
   "cell_type": "code",
   "execution_count": 20,
   "metadata": {},
   "outputs": [
    {
     "data": {
      "text/html": [
       "<div>\n",
       "<style scoped>\n",
       "    .dataframe tbody tr th:only-of-type {\n",
       "        vertical-align: middle;\n",
       "    }\n",
       "\n",
       "    .dataframe tbody tr th {\n",
       "        vertical-align: top;\n",
       "    }\n",
       "\n",
       "    .dataframe thead th {\n",
       "        text-align: right;\n",
       "    }\n",
       "</style>\n",
       "<table border=\"1\" class=\"dataframe\">\n",
       "  <thead>\n",
       "    <tr style=\"text-align: right;\">\n",
       "      <th></th>\n",
       "      <th>Month</th>\n",
       "      <th>Year</th>\n",
       "      <th>Origin Country</th>\n",
       "      <th>Origin Continent</th>\n",
       "      <th>Destination Country</th>\n",
       "      <th>Destination Continent</th>\n",
       "      <th>Total flights</th>\n",
       "      <th>Total seats</th>\n",
       "      <th>Km</th>\n",
       "      <th>Eficiencia_avión</th>\n",
       "      <th>Total ASKs</th>\n",
       "    </tr>\n",
       "  </thead>\n",
       "  <tbody>\n",
       "    <tr>\n",
       "      <th>114199</th>\n",
       "      <td>5</td>\n",
       "      <td>2013</td>\n",
       "      <td>Monaco</td>\n",
       "      <td>Europe</td>\n",
       "      <td>France</td>\n",
       "      <td>Europe</td>\n",
       "      <td>1004</td>\n",
       "      <td>0</td>\n",
       "      <td>0.000000</td>\n",
       "      <td>0.000000</td>\n",
       "      <td>0</td>\n",
       "    </tr>\n",
       "    <tr>\n",
       "      <th>48188</th>\n",
       "      <td>7</td>\n",
       "      <td>2013</td>\n",
       "      <td>Monaco</td>\n",
       "      <td>Europe</td>\n",
       "      <td>France</td>\n",
       "      <td>Europe</td>\n",
       "      <td>1418</td>\n",
       "      <td>0</td>\n",
       "      <td>0.000000</td>\n",
       "      <td>0.000000</td>\n",
       "      <td>0</td>\n",
       "    </tr>\n",
       "    <tr>\n",
       "      <th>90453</th>\n",
       "      <td>7</td>\n",
       "      <td>2013</td>\n",
       "      <td>Indonesia</td>\n",
       "      <td>Asia</td>\n",
       "      <td>United States</td>\n",
       "      <td>North America</td>\n",
       "      <td>2</td>\n",
       "      <td>0</td>\n",
       "      <td>0.000000</td>\n",
       "      <td>0.000000</td>\n",
       "      <td>0</td>\n",
       "    </tr>\n",
       "    <tr>\n",
       "      <th>201972</th>\n",
       "      <td>4</td>\n",
       "      <td>2020</td>\n",
       "      <td>Australia</td>\n",
       "      <td>Australasia</td>\n",
       "      <td>Egypt</td>\n",
       "      <td>Africa</td>\n",
       "      <td>1</td>\n",
       "      <td>309</td>\n",
       "      <td>14361.786408</td>\n",
       "      <td>0.000070</td>\n",
       "      <td>4437792</td>\n",
       "    </tr>\n",
       "    <tr>\n",
       "      <th>252743</th>\n",
       "      <td>5</td>\n",
       "      <td>2020</td>\n",
       "      <td>Vietnam</td>\n",
       "      <td>Asia</td>\n",
       "      <td>United States</td>\n",
       "      <td>North America</td>\n",
       "      <td>1</td>\n",
       "      <td>314</td>\n",
       "      <td>13330.197452</td>\n",
       "      <td>0.000075</td>\n",
       "      <td>4185682</td>\n",
       "    </tr>\n",
       "    <tr>\n",
       "      <th>187474</th>\n",
       "      <td>7</td>\n",
       "      <td>2020</td>\n",
       "      <td>Vietnam</td>\n",
       "      <td>Asia</td>\n",
       "      <td>United States</td>\n",
       "      <td>North America</td>\n",
       "      <td>1</td>\n",
       "      <td>259</td>\n",
       "      <td>13330.196911</td>\n",
       "      <td>0.000075</td>\n",
       "      <td>3452521</td>\n",
       "    </tr>\n",
       "    <tr>\n",
       "      <th>250667</th>\n",
       "      <td>11</td>\n",
       "      <td>2004</td>\n",
       "      <td>Guinea</td>\n",
       "      <td>Africa</td>\n",
       "      <td>China</td>\n",
       "      <td>Asia</td>\n",
       "      <td>1</td>\n",
       "      <td>145</td>\n",
       "      <td>13017.986207</td>\n",
       "      <td>0.000077</td>\n",
       "      <td>1887608</td>\n",
       "    </tr>\n",
       "    <tr>\n",
       "      <th>134045</th>\n",
       "      <td>8</td>\n",
       "      <td>2020</td>\n",
       "      <td>Mauritania</td>\n",
       "      <td>Africa</td>\n",
       "      <td>China</td>\n",
       "      <td>Asia</td>\n",
       "      <td>1</td>\n",
       "      <td>360</td>\n",
       "      <td>12845.783333</td>\n",
       "      <td>0.000078</td>\n",
       "      <td>4624482</td>\n",
       "    </tr>\n",
       "    <tr>\n",
       "      <th>187649</th>\n",
       "      <td>11</td>\n",
       "      <td>2020</td>\n",
       "      <td>Vietnam</td>\n",
       "      <td>Asia</td>\n",
       "      <td>Canada</td>\n",
       "      <td>North America</td>\n",
       "      <td>1</td>\n",
       "      <td>259</td>\n",
       "      <td>12794.285714</td>\n",
       "      <td>0.000078</td>\n",
       "      <td>3313720</td>\n",
       "    </tr>\n",
       "    <tr>\n",
       "      <th>258447</th>\n",
       "      <td>6</td>\n",
       "      <td>2020</td>\n",
       "      <td>Vietnam</td>\n",
       "      <td>Asia</td>\n",
       "      <td>Canada</td>\n",
       "      <td>North America</td>\n",
       "      <td>1</td>\n",
       "      <td>259</td>\n",
       "      <td>12794.285714</td>\n",
       "      <td>0.000078</td>\n",
       "      <td>3313720</td>\n",
       "    </tr>\n",
       "  </tbody>\n",
       "</table>\n",
       "</div>"
      ],
      "text/plain": [
       "        Month  Year Origin Country Origin Continent Destination Country  \\\n",
       "114199      5  2013         Monaco           Europe              France   \n",
       "48188       7  2013         Monaco           Europe              France   \n",
       "90453       7  2013      Indonesia             Asia       United States   \n",
       "201972      4  2020      Australia      Australasia               Egypt   \n",
       "252743      5  2020        Vietnam             Asia       United States   \n",
       "187474      7  2020        Vietnam             Asia       United States   \n",
       "250667     11  2004         Guinea           Africa               China   \n",
       "134045      8  2020     Mauritania           Africa               China   \n",
       "187649     11  2020        Vietnam             Asia              Canada   \n",
       "258447      6  2020        Vietnam             Asia              Canada   \n",
       "\n",
       "       Destination Continent  Total flights  Total seats            Km  \\\n",
       "114199                Europe           1004            0      0.000000   \n",
       "48188                 Europe           1418            0      0.000000   \n",
       "90453          North America              2            0      0.000000   \n",
       "201972                Africa              1          309  14361.786408   \n",
       "252743         North America              1          314  13330.197452   \n",
       "187474         North America              1          259  13330.196911   \n",
       "250667                  Asia              1          145  13017.986207   \n",
       "134045                  Asia              1          360  12845.783333   \n",
       "187649         North America              1          259  12794.285714   \n",
       "258447         North America              1          259  12794.285714   \n",
       "\n",
       "        Eficiencia_avión  Total ASKs  \n",
       "114199          0.000000           0  \n",
       "48188           0.000000           0  \n",
       "90453           0.000000           0  \n",
       "201972          0.000070     4437792  \n",
       "252743          0.000075     4185682  \n",
       "187474          0.000075     3452521  \n",
       "250667          0.000077     1887608  \n",
       "134045          0.000078     4624482  \n",
       "187649          0.000078     3313720  \n",
       "258447          0.000078     3313720  "
      ]
     },
     "execution_count": 20,
     "metadata": {},
     "output_type": "execute_result"
    }
   ],
   "source": [
    "#data10 = df[df['Year'] < 2020]\n",
    "df.sort_values('Eficiencia_avión',ascending=True).head(10)"
   ]
  },
  {
   "cell_type": "markdown",
   "metadata": {},
   "source": [
    "En terminos de efiencia, vuelos y distancia total recorrida vemos que USA está en el top, por contra de rutas como:\n",
    "* Australia - Egypt\n",
    "* Vietnam - USA\n",
    "* Guinea - China\n",
    "* Mauritania - China\n",
    "* Vietnam - Canada\n",
    "    \n",
    "La recurrencia de las rutas con grecia hace replantear dichos vuelos. Se puede pensar también en un efecto post covid al ser vuelos que datan del 2020\n",
    "\n",
    "Rutas menos eficientes enlazan con Grecia y Austria. Siendo la peor ruta quizas Australia Belgica"
   ]
  },
  {
   "cell_type": "markdown",
   "metadata": {},
   "source": [
    "3. **Eficiencia:** Al comparar el número total de vuelos con el ASK total, se puede determinar cuánto está siendo utilizado cada kilómetro disponible. Esto puede ser un indicador de la eficiencia de una aerolínea o flota de aeronaves.\n",
    "\n",
    "    El **número total de vuelos** y el **ASK total** son dos medidas diferentes de la actividad de un avión. El número total de vuelos mide la cantidad de viajes que realiza un avión, mientras que el ASK total mide la cantidad de asientos disponibles por kilómetro en todos los vuelos.\n",
    "    \n",
    "    Ambas medidas pueden ser útiles para evaluar la eficiencia y productividad de un avión, pero no es posible compararlas directamente ya que miden conceptos diferentes."
   ]
  },
  {
   "cell_type": "code",
   "execution_count": 21,
   "metadata": {},
   "outputs": [],
   "source": [
    "min_flights = df[df['Total flights'] == df['Total flights'].min()]\n",
    "max_flights = df[df['Total flights'] == df['Total flights'].max()]"
   ]
  },
  {
   "cell_type": "markdown",
   "metadata": {},
   "source": [
    "Por ejemplo, un avión puede realizar muchos vuelos, pero con pocos pasajeros, lo que resultaría en un ASK total bajo."
   ]
  },
  {
   "cell_type": "code",
   "execution_count": 22,
   "metadata": {},
   "outputs": [
    {
     "data": {
      "text/html": [
       "<div>\n",
       "<style scoped>\n",
       "    .dataframe tbody tr th:only-of-type {\n",
       "        vertical-align: middle;\n",
       "    }\n",
       "\n",
       "    .dataframe tbody tr th {\n",
       "        vertical-align: top;\n",
       "    }\n",
       "\n",
       "    .dataframe thead th {\n",
       "        text-align: right;\n",
       "    }\n",
       "</style>\n",
       "<table border=\"1\" class=\"dataframe\">\n",
       "  <thead>\n",
       "    <tr style=\"text-align: right;\">\n",
       "      <th></th>\n",
       "      <th>Month</th>\n",
       "      <th>Year</th>\n",
       "      <th>Origin Country</th>\n",
       "      <th>Origin Continent</th>\n",
       "      <th>Destination Country</th>\n",
       "      <th>Destination Continent</th>\n",
       "      <th>Total flights</th>\n",
       "      <th>Total seats</th>\n",
       "      <th>Km</th>\n",
       "      <th>Eficiencia_avión</th>\n",
       "      <th>Total ASKs</th>\n",
       "    </tr>\n",
       "  </thead>\n",
       "  <tbody>\n",
       "    <tr>\n",
       "      <th>190994</th>\n",
       "      <td>8</td>\n",
       "      <td>2005</td>\n",
       "      <td>United States</td>\n",
       "      <td>North America</td>\n",
       "      <td>United States</td>\n",
       "      <td>North America</td>\n",
       "      <td>902944</td>\n",
       "      <td>82547758</td>\n",
       "      <td>1282.520563</td>\n",
       "      <td>704.038614</td>\n",
       "      <td>105869197041</td>\n",
       "    </tr>\n",
       "  </tbody>\n",
       "</table>\n",
       "</div>"
      ],
      "text/plain": [
       "        Month  Year Origin Country Origin Continent Destination Country  \\\n",
       "190994      8  2005  United States    North America       United States   \n",
       "\n",
       "       Destination Continent  Total flights  Total seats           Km  \\\n",
       "190994         North America         902944     82547758  1282.520563   \n",
       "\n",
       "        Eficiencia_avión    Total ASKs  \n",
       "190994        704.038614  105869197041  "
      ]
     },
     "execution_count": 22,
     "metadata": {},
     "output_type": "execute_result"
    }
   ],
   "source": [
    "max_flights"
   ]
  },
  {
   "cell_type": "code",
   "execution_count": 23,
   "metadata": {
    "scrolled": true
   },
   "outputs": [
    {
     "data": {
      "text/html": [
       "<div>\n",
       "<style scoped>\n",
       "    .dataframe tbody tr th:only-of-type {\n",
       "        vertical-align: middle;\n",
       "    }\n",
       "\n",
       "    .dataframe tbody tr th {\n",
       "        vertical-align: top;\n",
       "    }\n",
       "\n",
       "    .dataframe thead th {\n",
       "        text-align: right;\n",
       "    }\n",
       "</style>\n",
       "<table border=\"1\" class=\"dataframe\">\n",
       "  <thead>\n",
       "    <tr style=\"text-align: right;\">\n",
       "      <th></th>\n",
       "      <th>Month</th>\n",
       "      <th>Year</th>\n",
       "      <th>Origin Country</th>\n",
       "      <th>Origin Continent</th>\n",
       "      <th>Destination Country</th>\n",
       "      <th>Destination Continent</th>\n",
       "      <th>Total flights</th>\n",
       "      <th>Total seats</th>\n",
       "      <th>Km</th>\n",
       "      <th>Eficiencia_avión</th>\n",
       "      <th>Total ASKs</th>\n",
       "    </tr>\n",
       "  </thead>\n",
       "  <tbody>\n",
       "    <tr>\n",
       "      <th>48188</th>\n",
       "      <td>7</td>\n",
       "      <td>2013</td>\n",
       "      <td>Monaco</td>\n",
       "      <td>Europe</td>\n",
       "      <td>France</td>\n",
       "      <td>Europe</td>\n",
       "      <td>1418</td>\n",
       "      <td>0</td>\n",
       "      <td>0.0</td>\n",
       "      <td>0.0</td>\n",
       "      <td>0</td>\n",
       "    </tr>\n",
       "    <tr>\n",
       "      <th>90453</th>\n",
       "      <td>7</td>\n",
       "      <td>2013</td>\n",
       "      <td>Indonesia</td>\n",
       "      <td>Asia</td>\n",
       "      <td>United States</td>\n",
       "      <td>North America</td>\n",
       "      <td>2</td>\n",
       "      <td>0</td>\n",
       "      <td>0.0</td>\n",
       "      <td>0.0</td>\n",
       "      <td>0</td>\n",
       "    </tr>\n",
       "    <tr>\n",
       "      <th>114199</th>\n",
       "      <td>5</td>\n",
       "      <td>2013</td>\n",
       "      <td>Monaco</td>\n",
       "      <td>Europe</td>\n",
       "      <td>France</td>\n",
       "      <td>Europe</td>\n",
       "      <td>1004</td>\n",
       "      <td>0</td>\n",
       "      <td>0.0</td>\n",
       "      <td>0.0</td>\n",
       "      <td>0</td>\n",
       "    </tr>\n",
       "  </tbody>\n",
       "</table>\n",
       "</div>"
      ],
      "text/plain": [
       "        Month  Year Origin Country Origin Continent Destination Country  \\\n",
       "48188       7  2013         Monaco           Europe              France   \n",
       "90453       7  2013      Indonesia             Asia       United States   \n",
       "114199      5  2013         Monaco           Europe              France   \n",
       "\n",
       "       Destination Continent  Total flights  Total seats   Km  \\\n",
       "48188                 Europe           1418            0  0.0   \n",
       "90453          North America              2            0  0.0   \n",
       "114199                Europe           1004            0  0.0   \n",
       "\n",
       "        Eficiencia_avión  Total ASKs  \n",
       "48188                0.0           0  \n",
       "90453                0.0           0  \n",
       "114199               0.0           0  "
      ]
     },
     "execution_count": 23,
     "metadata": {},
     "output_type": "execute_result"
    }
   ],
   "source": [
    "min_ASKs"
   ]
  },
  {
   "cell_type": "code",
   "execution_count": 24,
   "metadata": {},
   "outputs": [
    {
     "data": {
      "text/html": [
       "<div>\n",
       "<style scoped>\n",
       "    .dataframe tbody tr th:only-of-type {\n",
       "        vertical-align: middle;\n",
       "    }\n",
       "\n",
       "    .dataframe tbody tr th {\n",
       "        vertical-align: top;\n",
       "    }\n",
       "\n",
       "    .dataframe thead th {\n",
       "        text-align: right;\n",
       "    }\n",
       "</style>\n",
       "<table border=\"1\" class=\"dataframe\">\n",
       "  <thead>\n",
       "    <tr style=\"text-align: right;\">\n",
       "      <th></th>\n",
       "      <th>Month</th>\n",
       "      <th>Year</th>\n",
       "      <th>Origin Country</th>\n",
       "      <th>Destination Country</th>\n",
       "      <th>Total flights</th>\n",
       "      <th>Total ASKs</th>\n",
       "    </tr>\n",
       "  </thead>\n",
       "  <tbody>\n",
       "    <tr>\n",
       "      <th>211433</th>\n",
       "      <td>7</td>\n",
       "      <td>2019</td>\n",
       "      <td>United States</td>\n",
       "      <td>United States</td>\n",
       "      <td>771538</td>\n",
       "      <td>130313407467</td>\n",
       "    </tr>\n",
       "    <tr>\n",
       "      <th>2322</th>\n",
       "      <td>8</td>\n",
       "      <td>2019</td>\n",
       "      <td>United States</td>\n",
       "      <td>United States</td>\n",
       "      <td>774554</td>\n",
       "      <td>128159556880</td>\n",
       "    </tr>\n",
       "    <tr>\n",
       "      <th>148975</th>\n",
       "      <td>3</td>\n",
       "      <td>2020</td>\n",
       "      <td>United States</td>\n",
       "      <td>United States</td>\n",
       "      <td>748712</td>\n",
       "      <td>126016578710</td>\n",
       "    </tr>\n",
       "    <tr>\n",
       "      <th>16965</th>\n",
       "      <td>6</td>\n",
       "      <td>2019</td>\n",
       "      <td>United States</td>\n",
       "      <td>United States</td>\n",
       "      <td>742990</td>\n",
       "      <td>124888468865</td>\n",
       "    </tr>\n",
       "    <tr>\n",
       "      <th>276711</th>\n",
       "      <td>12</td>\n",
       "      <td>2019</td>\n",
       "      <td>United States</td>\n",
       "      <td>United States</td>\n",
       "      <td>733797</td>\n",
       "      <td>122911727697</td>\n",
       "    </tr>\n",
       "    <tr>\n",
       "      <th>243248</th>\n",
       "      <td>6</td>\n",
       "      <td>2018</td>\n",
       "      <td>United States</td>\n",
       "      <td>United States</td>\n",
       "      <td>732478</td>\n",
       "      <td>122041775605</td>\n",
       "    </tr>\n",
       "    <tr>\n",
       "      <th>221077</th>\n",
       "      <td>10</td>\n",
       "      <td>2019</td>\n",
       "      <td>United States</td>\n",
       "      <td>United States</td>\n",
       "      <td>746034</td>\n",
       "      <td>120925166988</td>\n",
       "    </tr>\n",
       "    <tr>\n",
       "      <th>160068</th>\n",
       "      <td>8</td>\n",
       "      <td>2017</td>\n",
       "      <td>United States</td>\n",
       "      <td>United States</td>\n",
       "      <td>742651</td>\n",
       "      <td>119864807332</td>\n",
       "    </tr>\n",
       "    <tr>\n",
       "      <th>227008</th>\n",
       "      <td>4</td>\n",
       "      <td>2019</td>\n",
       "      <td>United States</td>\n",
       "      <td>United States</td>\n",
       "      <td>713061</td>\n",
       "      <td>118255293404</td>\n",
       "    </tr>\n",
       "    <tr>\n",
       "      <th>70488</th>\n",
       "      <td>5</td>\n",
       "      <td>2018</td>\n",
       "      <td>United States</td>\n",
       "      <td>United States</td>\n",
       "      <td>722065</td>\n",
       "      <td>118176842350</td>\n",
       "    </tr>\n",
       "  </tbody>\n",
       "</table>\n",
       "</div>"
      ],
      "text/plain": [
       "        Month  Year Origin Country Destination Country  Total flights  \\\n",
       "211433      7  2019  United States       United States         771538   \n",
       "2322        8  2019  United States       United States         774554   \n",
       "148975      3  2020  United States       United States         748712   \n",
       "16965       6  2019  United States       United States         742990   \n",
       "276711     12  2019  United States       United States         733797   \n",
       "243248      6  2018  United States       United States         732478   \n",
       "221077     10  2019  United States       United States         746034   \n",
       "160068      8  2017  United States       United States         742651   \n",
       "227008      4  2019  United States       United States         713061   \n",
       "70488       5  2018  United States       United States         722065   \n",
       "\n",
       "          Total ASKs  \n",
       "211433  130313407467  \n",
       "2322    128159556880  \n",
       "148975  126016578710  \n",
       "16965   124888468865  \n",
       "276711  122911727697  \n",
       "243248  122041775605  \n",
       "221077  120925166988  \n",
       "160068  119864807332  \n",
       "227008  118255293404  \n",
       "70488   118176842350  "
      ]
     },
     "execution_count": 24,
     "metadata": {},
     "output_type": "execute_result"
    }
   ],
   "source": [
    "df[['Month','Year','Origin Country','Destination Country','Total flights','Total ASKs']].sort_values('Total ASKs',ascending=False).head(10)"
   ]
  },
  {
   "cell_type": "markdown",
   "metadata": {},
   "source": [
    "Por otro lado, un avión puede realizar pocos vuelos pero con muchos pasajeros, lo que resultaría en un alto ASK total."
   ]
  },
  {
   "cell_type": "code",
   "execution_count": 25,
   "metadata": {
    "scrolled": false
   },
   "outputs": [
    {
     "data": {
      "text/html": [
       "<div>\n",
       "<style scoped>\n",
       "    .dataframe tbody tr th:only-of-type {\n",
       "        vertical-align: middle;\n",
       "    }\n",
       "\n",
       "    .dataframe tbody tr th {\n",
       "        vertical-align: top;\n",
       "    }\n",
       "\n",
       "    .dataframe thead th {\n",
       "        text-align: right;\n",
       "    }\n",
       "</style>\n",
       "<table border=\"1\" class=\"dataframe\">\n",
       "  <thead>\n",
       "    <tr style=\"text-align: right;\">\n",
       "      <th></th>\n",
       "      <th>Month</th>\n",
       "      <th>Year</th>\n",
       "      <th>Origin Country</th>\n",
       "      <th>Destination Country</th>\n",
       "      <th>Total flights</th>\n",
       "      <th>Total seats</th>\n",
       "      <th>Km</th>\n",
       "      <th>Total ASKs</th>\n",
       "    </tr>\n",
       "  </thead>\n",
       "  <tbody>\n",
       "    <tr>\n",
       "      <th>48188</th>\n",
       "      <td>7</td>\n",
       "      <td>2013</td>\n",
       "      <td>Monaco</td>\n",
       "      <td>France</td>\n",
       "      <td>1418</td>\n",
       "      <td>0</td>\n",
       "      <td>0.0</td>\n",
       "      <td>0</td>\n",
       "    </tr>\n",
       "    <tr>\n",
       "      <th>90453</th>\n",
       "      <td>7</td>\n",
       "      <td>2013</td>\n",
       "      <td>Indonesia</td>\n",
       "      <td>United States</td>\n",
       "      <td>2</td>\n",
       "      <td>0</td>\n",
       "      <td>0.0</td>\n",
       "      <td>0</td>\n",
       "    </tr>\n",
       "    <tr>\n",
       "      <th>114199</th>\n",
       "      <td>5</td>\n",
       "      <td>2013</td>\n",
       "      <td>Monaco</td>\n",
       "      <td>France</td>\n",
       "      <td>1004</td>\n",
       "      <td>0</td>\n",
       "      <td>0.0</td>\n",
       "      <td>0</td>\n",
       "    </tr>\n",
       "  </tbody>\n",
       "</table>\n",
       "</div>"
      ],
      "text/plain": [
       "        Month  Year Origin Country Destination Country  Total flights  \\\n",
       "48188       7  2013         Monaco              France           1418   \n",
       "90453       7  2013      Indonesia       United States              2   \n",
       "114199      5  2013         Monaco              France           1004   \n",
       "\n",
       "        Total seats   Km  Total ASKs  \n",
       "48188             0  0.0           0  \n",
       "90453             0  0.0           0  \n",
       "114199            0  0.0           0  "
      ]
     },
     "execution_count": 25,
     "metadata": {},
     "output_type": "execute_result"
    }
   ],
   "source": [
    "min_ASKs[['Month','Year','Origin Country','Destination Country','Total flights', 'Total seats', 'Km','Total ASKs']]"
   ]
  },
  {
   "cell_type": "markdown",
   "metadata": {},
   "source": [
    "En este caso podemos pensar en que se trate de un error al no conocer los datos de asientos que disponemos para los vuelos Monaco - France e Indonesia - USA. "
   ]
  },
  {
   "cell_type": "code",
   "execution_count": 26,
   "metadata": {
    "scrolled": false
   },
   "outputs": [
    {
     "data": {
      "text/html": [
       "<div>\n",
       "<style scoped>\n",
       "    .dataframe tbody tr th:only-of-type {\n",
       "        vertical-align: middle;\n",
       "    }\n",
       "\n",
       "    .dataframe tbody tr th {\n",
       "        vertical-align: top;\n",
       "    }\n",
       "\n",
       "    .dataframe thead th {\n",
       "        text-align: right;\n",
       "    }\n",
       "</style>\n",
       "<table border=\"1\" class=\"dataframe\">\n",
       "  <thead>\n",
       "    <tr style=\"text-align: right;\">\n",
       "      <th></th>\n",
       "      <th>Month</th>\n",
       "      <th>Year</th>\n",
       "      <th>Origin Country</th>\n",
       "      <th>Destination Country</th>\n",
       "      <th>Total flights</th>\n",
       "      <th>Total seats</th>\n",
       "      <th>Total ASKs</th>\n",
       "    </tr>\n",
       "  </thead>\n",
       "  <tbody>\n",
       "    <tr>\n",
       "      <th>90453</th>\n",
       "      <td>7</td>\n",
       "      <td>2013</td>\n",
       "      <td>Indonesia</td>\n",
       "      <td>United States</td>\n",
       "      <td>2</td>\n",
       "      <td>0</td>\n",
       "      <td>0</td>\n",
       "    </tr>\n",
       "    <tr>\n",
       "      <th>48188</th>\n",
       "      <td>7</td>\n",
       "      <td>2013</td>\n",
       "      <td>Monaco</td>\n",
       "      <td>France</td>\n",
       "      <td>1418</td>\n",
       "      <td>0</td>\n",
       "      <td>0</td>\n",
       "    </tr>\n",
       "    <tr>\n",
       "      <th>114199</th>\n",
       "      <td>5</td>\n",
       "      <td>2013</td>\n",
       "      <td>Monaco</td>\n",
       "      <td>France</td>\n",
       "      <td>1004</td>\n",
       "      <td>0</td>\n",
       "      <td>0</td>\n",
       "    </tr>\n",
       "    <tr>\n",
       "      <th>139595</th>\n",
       "      <td>9</td>\n",
       "      <td>2014</td>\n",
       "      <td>Belgium</td>\n",
       "      <td>Belgium</td>\n",
       "      <td>1</td>\n",
       "      <td>112</td>\n",
       "      <td>3605</td>\n",
       "    </tr>\n",
       "    <tr>\n",
       "      <th>1530</th>\n",
       "      <td>9</td>\n",
       "      <td>2020</td>\n",
       "      <td>Gibraltar</td>\n",
       "      <td>Morocco</td>\n",
       "      <td>1</td>\n",
       "      <td>70</td>\n",
       "      <td>4844</td>\n",
       "    </tr>\n",
       "    <tr>\n",
       "      <th>105634</th>\n",
       "      <td>1</td>\n",
       "      <td>2016</td>\n",
       "      <td>Monaco</td>\n",
       "      <td>France</td>\n",
       "      <td>72</td>\n",
       "      <td>360</td>\n",
       "      <td>6373</td>\n",
       "    </tr>\n",
       "    <tr>\n",
       "      <th>34734</th>\n",
       "      <td>9</td>\n",
       "      <td>2013</td>\n",
       "      <td>Saint Barthelemy</td>\n",
       "      <td>United States</td>\n",
       "      <td>2</td>\n",
       "      <td>20</td>\n",
       "      <td>6791</td>\n",
       "    </tr>\n",
       "    <tr>\n",
       "      <th>269528</th>\n",
       "      <td>6</td>\n",
       "      <td>2010</td>\n",
       "      <td>Belgium</td>\n",
       "      <td>Belgium</td>\n",
       "      <td>1</td>\n",
       "      <td>105</td>\n",
       "      <td>7773</td>\n",
       "    </tr>\n",
       "    <tr>\n",
       "      <th>89544</th>\n",
       "      <td>9</td>\n",
       "      <td>2012</td>\n",
       "      <td>Indonesia</td>\n",
       "      <td>United States</td>\n",
       "      <td>5</td>\n",
       "      <td>30</td>\n",
       "      <td>10573</td>\n",
       "    </tr>\n",
       "    <tr>\n",
       "      <th>193451</th>\n",
       "      <td>4</td>\n",
       "      <td>2013</td>\n",
       "      <td>Belgium</td>\n",
       "      <td>Belgium</td>\n",
       "      <td>1</td>\n",
       "      <td>97</td>\n",
       "      <td>11552</td>\n",
       "    </tr>\n",
       "  </tbody>\n",
       "</table>\n",
       "</div>"
      ],
      "text/plain": [
       "        Month  Year    Origin Country Destination Country  Total flights  \\\n",
       "90453       7  2013         Indonesia       United States              2   \n",
       "48188       7  2013            Monaco              France           1418   \n",
       "114199      5  2013            Monaco              France           1004   \n",
       "139595      9  2014           Belgium             Belgium              1   \n",
       "1530        9  2020         Gibraltar             Morocco              1   \n",
       "105634      1  2016            Monaco              France             72   \n",
       "34734       9  2013  Saint Barthelemy       United States              2   \n",
       "269528      6  2010           Belgium             Belgium              1   \n",
       "89544       9  2012         Indonesia       United States              5   \n",
       "193451      4  2013           Belgium             Belgium              1   \n",
       "\n",
       "        Total seats  Total ASKs  \n",
       "90453             0           0  \n",
       "48188             0           0  \n",
       "114199            0           0  \n",
       "139595          112        3605  \n",
       "1530             70        4844  \n",
       "105634          360        6373  \n",
       "34734            20        6791  \n",
       "269528          105        7773  \n",
       "89544            30       10573  \n",
       "193451           97       11552  "
      ]
     },
     "execution_count": 26,
     "metadata": {},
     "output_type": "execute_result"
    }
   ],
   "source": [
    "df[['Month','Year','Origin Country','Destination Country','Total flights', 'Total seats','Total ASKs']].sort_values('Total ASKs',ascending=True).head(10)"
   ]
  },
  {
   "cell_type": "markdown",
   "metadata": {},
   "source": [
    "**4. Crecimiento:** Al monitorear el número total de vuelos a lo largo del tiempo, podemos evaluar el crecimiento y/o expansión de una aerolínea o flota de aviones. En este caso, en el contexto que estamos, también nos puede dar una idea de la contaminación generada."
   ]
  },
  {
   "cell_type": "code",
   "execution_count": 27,
   "metadata": {
    "scrolled": true
   },
   "outputs": [
    {
     "data": {
      "text/plain": [
       "<AxesSubplot:xlabel='Year', ylabel='Count'>"
      ]
     },
     "execution_count": 27,
     "metadata": {},
     "output_type": "execute_result"
    },
    {
     "data": {
      "image/png": "[encoded data removed]",
      "text/plain": [
       "<Figure size 432x288 with 1 Axes>"
      ]
     },
     "metadata": {
      "needs_background": "light"
     },
     "output_type": "display_data"
    }
   ],
   "source": [
    "sns.histplot(x=df.Year)"
   ]
  },
  {
   "cell_type": "markdown",
   "metadata": {},
   "source": [
    "Por lo general podemos ver una creciente evolución en el número de vuelos hasta el 2020, inicio de la pandemia COVID-19."
   ]
  },
  {
   "cell_type": "markdown",
   "metadata": {},
   "source": [
    "**5. Vuelos:**"
   ]
  },
  {
   "cell_type": "markdown",
   "metadata": {},
   "source": [
    "* 5.1. Destinos más populares"
   ]
  },
  {
   "cell_type": "code",
   "execution_count": 28,
   "metadata": {},
   "outputs": [],
   "source": [
    "import squarify"
   ]
  },
  {
   "cell_type": "code",
   "execution_count": 29,
   "metadata": {
    "scrolled": true
   },
   "outputs": [],
   "source": [
    "plotdata1 = df['Destination Country'].value_counts().head(10)"
   ]
  },
  {
   "cell_type": "code",
   "execution_count": 30,
   "metadata": {},
   "outputs": [
    {
     "data": {
      "image/png": "[encoded data removed]",
      "text/plain": [
       "<Figure size 1152x648 with 1 Axes>"
      ]
     },
     "metadata": {
      "needs_background": "light"
     },
     "output_type": "display_data"
    }
   ],
   "source": [
    "# plot it\n",
    "colors = sns.color_palette('bright')\n",
    "plt.figure(figsize=(16, 9))\n",
    "plt.axis('off')\n",
    "axis = squarify.plot(sizes=plotdata1.values, label=plotdata1.index, color = colors, pad=1, text_kwargs={'fontsize': 14})\n",
    "\n",
    "axis.set_title(\"Los 10 destinos más populares\", fontsize=18)\n",
    "\n",
    "plt.show()"
   ]
  },
  {
   "cell_type": "markdown",
   "metadata": {},
   "source": [
    "* 5.2. Rutas más largas**"
   ]
  },
  {
   "cell_type": "code",
   "execution_count": 31,
   "metadata": {
    "scrolled": true
   },
   "outputs": [
    {
     "data": {
      "text/html": [
       "<div>\n",
       "<style scoped>\n",
       "    .dataframe tbody tr th:only-of-type {\n",
       "        vertical-align: middle;\n",
       "    }\n",
       "\n",
       "    .dataframe tbody tr th {\n",
       "        vertical-align: top;\n",
       "    }\n",
       "\n",
       "    .dataframe thead th {\n",
       "        text-align: right;\n",
       "    }\n",
       "</style>\n",
       "<table border=\"1\" class=\"dataframe\">\n",
       "  <thead>\n",
       "    <tr style=\"text-align: right;\">\n",
       "      <th></th>\n",
       "      <th>Origin Country</th>\n",
       "      <th>Destination Country</th>\n",
       "      <th>Km</th>\n",
       "    </tr>\n",
       "  </thead>\n",
       "  <tbody>\n",
       "    <tr>\n",
       "      <th>220061</th>\n",
       "      <td>Argentina</td>\n",
       "      <td>Thailand</td>\n",
       "      <td>16529.036667</td>\n",
       "    </tr>\n",
       "  </tbody>\n",
       "</table>\n",
       "</div>"
      ],
      "text/plain": [
       "       Origin Country Destination Country            Km\n",
       "220061      Argentina            Thailand  16529.036667"
      ]
     },
     "execution_count": 31,
     "metadata": {},
     "output_type": "execute_result"
    }
   ],
   "source": [
    "max_ruta = df[df.Km == df.Km.max()]\n",
    "max_ruta[['Origin Country','Destination Country','Km']]"
   ]
  },
  {
   "cell_type": "markdown",
   "metadata": {},
   "source": [
    "La distancia total del vuelo más largo se encuentra entre Argentina y Tailandia, 16529 Km. "
   ]
  },
  {
   "cell_type": "markdown",
   "metadata": {},
   "source": [
    "* 5.3. Aeropuerto con más vuelos"
   ]
  },
  {
   "cell_type": "code",
   "execution_count": 32,
   "metadata": {
    "scrolled": true
   },
   "outputs": [
    {
     "data": {
      "text/plain": [
       "Russian Federation    5790\n",
       "Germany               4252\n",
       "France                4179\n",
       "United Kingdom        4106\n",
       "Turkey                4063\n",
       "Name: Origin Country, dtype: int64"
      ]
     },
     "execution_count": 32,
     "metadata": {},
     "output_type": "execute_result"
    }
   ],
   "source": [
    "df['Origin Country'].value_counts().head()"
   ]
  },
  {
   "cell_type": "markdown",
   "metadata": {},
   "source": [
    "Los aeropuertos que presentan más vuelos son los de Rusia, Alemania y Francia."
   ]
  },
  {
   "cell_type": "markdown",
   "metadata": {},
   "source": [
    "* 5.4. Vuelos por mes"
   ]
  },
  {
   "cell_type": "code",
   "execution_count": 33,
   "metadata": {},
   "outputs": [
    {
     "data": {
      "text/plain": [
       "7     23456\n",
       "8     23335\n",
       "10    23329\n",
       "9     23222\n",
       "12    23186\n",
       "Name: Month, dtype: int64"
      ]
     },
     "execution_count": 33,
     "metadata": {},
     "output_type": "execute_result"
    }
   ],
   "source": [
    "df['Month'].value_counts().head(5)"
   ]
  },
  {
   "cell_type": "markdown",
   "metadata": {},
   "source": [
    "**Julio** es el mes con más vuelos"
   ]
  },
  {
   "cell_type": "markdown",
   "metadata": {},
   "source": [
    "* 5.5. Ruta más utilizada"
   ]
  },
  {
   "cell_type": "code",
   "execution_count": 34,
   "metadata": {},
   "outputs": [],
   "source": [
    "plotdata2 = df.groupby(['Origin Country', 'Destination Country']).agg({\n",
    "                                                            'Total flights': 'sum', \n",
    "                                                            'Total seats': 'sum',\n",
    "                                                            'Eficiencia_avión': 'mean',\n",
    "                                                            'Total ASKs': 'sum'\n",
    "                                                                    })"
   ]
  },
  {
   "cell_type": "code",
   "execution_count": 35,
   "metadata": {
    "scrolled": true
   },
   "outputs": [
    {
     "data": {
      "text/html": [
       "<div>\n",
       "<style scoped>\n",
       "    .dataframe tbody tr th:only-of-type {\n",
       "        vertical-align: middle;\n",
       "    }\n",
       "\n",
       "    .dataframe tbody tr th {\n",
       "        vertical-align: top;\n",
       "    }\n",
       "\n",
       "    .dataframe thead th {\n",
       "        text-align: right;\n",
       "    }\n",
       "</style>\n",
       "<table border=\"1\" class=\"dataframe\">\n",
       "  <thead>\n",
       "    <tr style=\"text-align: right;\">\n",
       "      <th></th>\n",
       "      <th></th>\n",
       "      <th>Total flights</th>\n",
       "      <th>Total seats</th>\n",
       "      <th>Eficiencia_avión</th>\n",
       "      <th>Total ASKs</th>\n",
       "    </tr>\n",
       "    <tr>\n",
       "      <th>Origin Country</th>\n",
       "      <th>Destination Country</th>\n",
       "      <th></th>\n",
       "      <th></th>\n",
       "      <th></th>\n",
       "      <th></th>\n",
       "    </tr>\n",
       "  </thead>\n",
       "  <tbody>\n",
       "    <tr>\n",
       "      <th>United States</th>\n",
       "      <th>United States</th>\n",
       "      <td>122110915</td>\n",
       "      <td>12266317361</td>\n",
       "      <td>547.406774</td>\n",
       "      <td>16475458883996</td>\n",
       "    </tr>\n",
       "    <tr>\n",
       "      <th>China</th>\n",
       "      <th>China</th>\n",
       "      <td>37130654</td>\n",
       "      <td>5768921272</td>\n",
       "      <td>190.639120</td>\n",
       "      <td>6717650384252</td>\n",
       "    </tr>\n",
       "    <tr>\n",
       "      <th>Canada</th>\n",
       "      <th>Canada</th>\n",
       "      <td>10914211</td>\n",
       "      <td>720474941</td>\n",
       "      <td>59.764553</td>\n",
       "      <td>803921025232</td>\n",
       "    </tr>\n",
       "    <tr>\n",
       "      <th>India</th>\n",
       "      <th>India</th>\n",
       "      <td>8367460</td>\n",
       "      <td>1240511260</td>\n",
       "      <td>58.748219</td>\n",
       "      <td>1109039277120</td>\n",
       "    </tr>\n",
       "    <tr>\n",
       "      <th>Russian Federation</th>\n",
       "      <th>Russian Federation</th>\n",
       "      <td>5508537</td>\n",
       "      <td>679629604</td>\n",
       "      <td>6.182369</td>\n",
       "      <td>1209026112919</td>\n",
       "    </tr>\n",
       "    <tr>\n",
       "      <th>Spain</th>\n",
       "      <th>Spain</th>\n",
       "      <td>4764144</td>\n",
       "      <td>615578219</td>\n",
       "      <td>48.680960</td>\n",
       "      <td>403124125708</td>\n",
       "    </tr>\n",
       "    <tr>\n",
       "      <th>United Kingdom</th>\n",
       "      <th>United Kingdom</th>\n",
       "      <td>4759346</td>\n",
       "      <td>431533744</td>\n",
       "      <td>68.531542</td>\n",
       "      <td>180691189899</td>\n",
       "    </tr>\n",
       "    <tr>\n",
       "      <th>France</th>\n",
       "      <th>France</th>\n",
       "      <td>3884158</td>\n",
       "      <td>451429947</td>\n",
       "      <td>39.279039</td>\n",
       "      <td>262076619199</td>\n",
       "    </tr>\n",
       "    <tr>\n",
       "      <th>Germany</th>\n",
       "      <th>Germany</th>\n",
       "      <td>3670973</td>\n",
       "      <td>472327348</td>\n",
       "      <td>50.943047</td>\n",
       "      <td>202837152135</td>\n",
       "    </tr>\n",
       "    <tr>\n",
       "      <th>Italy</th>\n",
       "      <th>Italy</th>\n",
       "      <td>3632011</td>\n",
       "      <td>525509502</td>\n",
       "      <td>37.350696</td>\n",
       "      <td>315303036798</td>\n",
       "    </tr>\n",
       "  </tbody>\n",
       "</table>\n",
       "</div>"
      ],
      "text/plain": [
       "                                        Total flights  Total seats  \\\n",
       "Origin Country     Destination Country                               \n",
       "United States      United States            122110915  12266317361   \n",
       "China              China                     37130654   5768921272   \n",
       "Canada             Canada                    10914211    720474941   \n",
       "India              India                      8367460   1240511260   \n",
       "Russian Federation Russian Federation         5508537    679629604   \n",
       "Spain              Spain                      4764144    615578219   \n",
       "United Kingdom     United Kingdom             4759346    431533744   \n",
       "France             France                     3884158    451429947   \n",
       "Germany            Germany                    3670973    472327348   \n",
       "Italy              Italy                      3632011    525509502   \n",
       "\n",
       "                                        Eficiencia_avión      Total ASKs  \n",
       "Origin Country     Destination Country                                    \n",
       "United States      United States              547.406774  16475458883996  \n",
       "China              China                      190.639120   6717650384252  \n",
       "Canada             Canada                      59.764553    803921025232  \n",
       "India              India                       58.748219   1109039277120  \n",
       "Russian Federation Russian Federation           6.182369   1209026112919  \n",
       "Spain              Spain                       48.680960    403124125708  \n",
       "United Kingdom     United Kingdom              68.531542    180691189899  \n",
       "France             France                      39.279039    262076619199  \n",
       "Germany            Germany                     50.943047    202837152135  \n",
       "Italy              Italy                       37.350696    315303036798  "
      ]
     },
     "execution_count": 35,
     "metadata": {},
     "output_type": "execute_result"
    }
   ],
   "source": [
    "plotdata2.sort_values(by='Total flights', ascending=False).head(10)"
   ]
  },
  {
   "cell_type": "markdown",
   "metadata": {},
   "source": [
    "Observamos que las 10 rutas más populares curiosamente son todas nacionales"
   ]
  },
  {
   "cell_type": "code",
   "execution_count": 36,
   "metadata": {},
   "outputs": [],
   "source": [
    "nacionales = df[df['Origin Country'] == df['Destination Country']]\n",
    "internacionales = df[df['Origin Country'] != df['Destination Country']]"
   ]
  },
  {
   "cell_type": "code",
   "execution_count": 37,
   "metadata": {
    "scrolled": true
   },
   "outputs": [
    {
     "data": {
      "text/html": [
       "<div>\n",
       "<style scoped>\n",
       "    .dataframe tbody tr th:only-of-type {\n",
       "        vertical-align: middle;\n",
       "    }\n",
       "\n",
       "    .dataframe tbody tr th {\n",
       "        vertical-align: top;\n",
       "    }\n",
       "\n",
       "    .dataframe thead th {\n",
       "        text-align: right;\n",
       "    }\n",
       "</style>\n",
       "<table border=\"1\" class=\"dataframe\">\n",
       "  <thead>\n",
       "    <tr style=\"text-align: right;\">\n",
       "      <th></th>\n",
       "      <th>Month</th>\n",
       "      <th>Year</th>\n",
       "      <th>Origin Country</th>\n",
       "      <th>Origin Continent</th>\n",
       "      <th>Destination Country</th>\n",
       "      <th>Destination Continent</th>\n",
       "      <th>Total flights</th>\n",
       "      <th>Total seats</th>\n",
       "      <th>Km</th>\n",
       "      <th>Eficiencia_avión</th>\n",
       "      <th>Total ASKs</th>\n",
       "    </tr>\n",
       "  </thead>\n",
       "  <tbody>\n",
       "    <tr>\n",
       "      <th>231782</th>\n",
       "      <td>8</td>\n",
       "      <td>2012</td>\n",
       "      <td>United States</td>\n",
       "      <td>North America</td>\n",
       "      <td>Canada</td>\n",
       "      <td>North America</td>\n",
       "      <td>19190</td>\n",
       "      <td>1470578</td>\n",
       "      <td>1500.742893</td>\n",
       "      <td>12.787000</td>\n",
       "      <td>2206959482</td>\n",
       "    </tr>\n",
       "    <tr>\n",
       "      <th>247249</th>\n",
       "      <td>7</td>\n",
       "      <td>2012</td>\n",
       "      <td>Canada</td>\n",
       "      <td>North America</td>\n",
       "      <td>United States</td>\n",
       "      <td>North America</td>\n",
       "      <td>18909</td>\n",
       "      <td>1459846</td>\n",
       "      <td>1513.532534</td>\n",
       "      <td>12.493289</td>\n",
       "      <td>2209524416</td>\n",
       "    </tr>\n",
       "    <tr>\n",
       "      <th>53146</th>\n",
       "      <td>7</td>\n",
       "      <td>2012</td>\n",
       "      <td>United States</td>\n",
       "      <td>North America</td>\n",
       "      <td>Canada</td>\n",
       "      <td>North America</td>\n",
       "      <td>18898</td>\n",
       "      <td>1459246</td>\n",
       "      <td>1513.423556</td>\n",
       "      <td>12.486921</td>\n",
       "      <td>2208457271</td>\n",
       "    </tr>\n",
       "    <tr>\n",
       "      <th>184430</th>\n",
       "      <td>7</td>\n",
       "      <td>2010</td>\n",
       "      <td>Canada</td>\n",
       "      <td>North America</td>\n",
       "      <td>United States</td>\n",
       "      <td>North America</td>\n",
       "      <td>18448</td>\n",
       "      <td>1361302</td>\n",
       "      <td>1526.498391</td>\n",
       "      <td>12.085175</td>\n",
       "      <td>2078025312</td>\n",
       "    </tr>\n",
       "    <tr>\n",
       "      <th>91557</th>\n",
       "      <td>8</td>\n",
       "      <td>2008</td>\n",
       "      <td>United States</td>\n",
       "      <td>North America</td>\n",
       "      <td>Canada</td>\n",
       "      <td>North America</td>\n",
       "      <td>18432</td>\n",
       "      <td>1382999</td>\n",
       "      <td>1520.159613</td>\n",
       "      <td>12.125043</td>\n",
       "      <td>2102379225</td>\n",
       "    </tr>\n",
       "    <tr>\n",
       "      <th>51189</th>\n",
       "      <td>8</td>\n",
       "      <td>2013</td>\n",
       "      <td>United States</td>\n",
       "      <td>North America</td>\n",
       "      <td>Canada</td>\n",
       "      <td>North America</td>\n",
       "      <td>18420</td>\n",
       "      <td>1442248</td>\n",
       "      <td>1541.733313</td>\n",
       "      <td>11.947592</td>\n",
       "      <td>2223561787</td>\n",
       "    </tr>\n",
       "    <tr>\n",
       "      <th>206593</th>\n",
       "      <td>8</td>\n",
       "      <td>2013</td>\n",
       "      <td>Canada</td>\n",
       "      <td>North America</td>\n",
       "      <td>United States</td>\n",
       "      <td>North America</td>\n",
       "      <td>18414</td>\n",
       "      <td>1441872</td>\n",
       "      <td>1542.015766</td>\n",
       "      <td>11.941512</td>\n",
       "      <td>2223389356</td>\n",
       "    </tr>\n",
       "    <tr>\n",
       "      <th>10304</th>\n",
       "      <td>3</td>\n",
       "      <td>2013</td>\n",
       "      <td>United States</td>\n",
       "      <td>North America</td>\n",
       "      <td>Canada</td>\n",
       "      <td>North America</td>\n",
       "      <td>18372</td>\n",
       "      <td>1546144</td>\n",
       "      <td>1629.463271</td>\n",
       "      <td>11.274878</td>\n",
       "      <td>2519384859</td>\n",
       "    </tr>\n",
       "    <tr>\n",
       "      <th>186551</th>\n",
       "      <td>7</td>\n",
       "      <td>2008</td>\n",
       "      <td>United States</td>\n",
       "      <td>North America</td>\n",
       "      <td>Canada</td>\n",
       "      <td>North America</td>\n",
       "      <td>18357</td>\n",
       "      <td>1384105</td>\n",
       "      <td>1522.882653</td>\n",
       "      <td>12.054113</td>\n",
       "      <td>2107829494</td>\n",
       "    </tr>\n",
       "    <tr>\n",
       "      <th>171756</th>\n",
       "      <td>8</td>\n",
       "      <td>2010</td>\n",
       "      <td>United States</td>\n",
       "      <td>North America</td>\n",
       "      <td>Canada</td>\n",
       "      <td>North America</td>\n",
       "      <td>18348</td>\n",
       "      <td>1349788</td>\n",
       "      <td>1517.340643</td>\n",
       "      <td>12.092209</td>\n",
       "      <td>2048088192</td>\n",
       "    </tr>\n",
       "  </tbody>\n",
       "</table>\n",
       "</div>"
      ],
      "text/plain": [
       "        Month  Year Origin Country Origin Continent Destination Country  \\\n",
       "231782      8  2012  United States    North America              Canada   \n",
       "247249      7  2012         Canada    North America       United States   \n",
       "53146       7  2012  United States    North America              Canada   \n",
       "184430      7  2010         Canada    North America       United States   \n",
       "91557       8  2008  United States    North America              Canada   \n",
       "51189       8  2013  United States    North America              Canada   \n",
       "206593      8  2013         Canada    North America       United States   \n",
       "10304       3  2013  United States    North America              Canada   \n",
       "186551      7  2008  United States    North America              Canada   \n",
       "171756      8  2010  United States    North America              Canada   \n",
       "\n",
       "       Destination Continent  Total flights  Total seats           Km  \\\n",
       "231782         North America          19190      1470578  1500.742893   \n",
       "247249         North America          18909      1459846  1513.532534   \n",
       "53146          North America          18898      1459246  1513.423556   \n",
       "184430         North America          18448      1361302  1526.498391   \n",
       "91557          North America          18432      1382999  1520.159613   \n",
       "51189          North America          18420      1442248  1541.733313   \n",
       "206593         North America          18414      1441872  1542.015766   \n",
       "10304          North America          18372      1546144  1629.463271   \n",
       "186551         North America          18357      1384105  1522.882653   \n",
       "171756         North America          18348      1349788  1517.340643   \n",
       "\n",
       "        Eficiencia_avión  Total ASKs  \n",
       "231782         12.787000  2206959482  \n",
       "247249         12.493289  2209524416  \n",
       "53146          12.486921  2208457271  \n",
       "184430         12.085175  2078025312  \n",
       "91557          12.125043  2102379225  \n",
       "51189          11.947592  2223561787  \n",
       "206593         11.941512  2223389356  \n",
       "10304          11.274878  2519384859  \n",
       "186551         12.054113  2107829494  \n",
       "171756         12.092209  2048088192  "
      ]
     },
     "execution_count": 37,
     "metadata": {},
     "output_type": "execute_result"
    }
   ],
   "source": [
    "internacionales.sort_values(by='Total flights', ascending=False).head(10)"
   ]
  }
 ],
 "metadata": {
  "kernelspec": {
   "display_name": "Python 3 (ipykernel)",
   "language": "python",
   "name": "python3"
  },
  "language_info": {
   "codemirror_mode": {
    "name": "ipython",
    "version": 3
   },
   "file_extension": ".py",
   "mimetype": "text/x-python",
   "name": "python",
   "nbconvert_exporter": "python",
   "pygments_lexer": "ipython3",
   "version": "3.9.12"
  },
  "toc": {
   "base_numbering": 1,
   "nav_menu": {},
   "number_sections": true,
   "sideBar": true,
   "skip_h1_title": true,
   "title_cell": "Table of Contents",
   "title_sidebar": "Contents",
   "toc_cell": true,
   "toc_position": {
    "height": "calc(100% - 180px)",
    "left": "10px",
    "top": "150px",
    "width": "190px"
   },
   "toc_section_display": true,
   "toc_window_display": true
  },
  "varInspector": {
   "cols": {
    "lenName": 16,
    "lenType": 16,
    "lenVar": 40
   },
   "kernels_config": {
    "python": {
     "delete_cmd_postfix": "",
     "delete_cmd_prefix": "del ",
     "library": "var_list.py",
     "varRefreshCmd": "print(var_dic_list())"
    },
    "r": {
     "delete_cmd_postfix": ") ",
     "delete_cmd_prefix": "rm(",
     "library": "var_list.r",
     "varRefreshCmd": "cat(var_dic_list()) "
    }
   },
   "types_to_exclude": [
    "module",
    "function",
    "builtin_function_or_method",
    "instance",
    "_Feature"
   ],
   "window_display": false
  }
 },
 "nbformat": 4,
 "nbformat_minor": 2
}

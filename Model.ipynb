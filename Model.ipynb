{
 "cells": [
  {
   "cell_type": "markdown",
   "metadata": {},
   "source": [
    "<div class=\"alert alert-success h1\" role=\"alert\">\n",
    "    <b>Vueling Tech Hack</b>\n",
    "</div>"
   ]
  },
  {
   "cell_type": "markdown",
   "metadata": {},
   "source": [
    "por [Guillermo Seoane](https://www.linkedin.com/in/guilleseoane/)"
   ]
  },
  {
   "cell_type": "code",
   "execution_count": 1,
   "metadata": {},
   "outputs": [],
   "source": [
    "import pandas as pd\n",
    "import numpy as np\n",
    "\n",
    "from sklearn.compose import ColumnTransformer\n",
    "from sklearn.impute import SimpleImputer\n",
    "from sklearn.metrics import classification_report\n",
    "from sklearn.model_selection import GridSearchCV, RepeatedStratifiedKFold\n",
    "from sklearn.pipeline import Pipeline\n",
    "from sklearn.preprocessing import OneHotEncoder, StandardScaler, RobustScaler, MinMaxScaler, LabelBinarizer, OrdinalEncoder\n",
    "from sklearn.preprocessing import Binarizer\n",
    "import sklearn.preprocessing as preprocessing\n",
    "\n",
    "from sklearn import set_config\n",
    "\n",
    "from sklearn.model_selection import train_test_split\n",
    "\n",
    "from sklearn.discriminant_analysis import LinearDiscriminantAnalysis\n",
    "from sklearn.neighbors import KNeighborsClassifier\n",
    "from sklearn.tree import DecisionTreeClassifier\n",
    "from sklearn.ensemble import RandomForestClassifier\n",
    "from sklearn.linear_model import LogisticRegression\n",
    "from sklearn.model_selection import KFold\n",
    "from sklearn.metrics import f1_score, make_scorer\n",
    "\n",
    "import matplotlib.pyplot as plt\n",
    "import seaborn as sns\n",
    "\n",
    "import json\n",
    "\n",
    "import warnings\n",
    "warnings.filterwarnings(\"ignore\")\n"
   ]
  },
  {
   "cell_type": "markdown",
   "metadata": {},
   "source": [
    "Download 'Mapping Destination Countries':"
   ]
  },
  {
   "cell_type": "code",
   "execution_count": 2,
   "metadata": {},
   "outputs": [],
   "source": [
    "country_map = {\"China\": 0, \"India\": 1, \"Russian Federation\": 2, \"United Arab Emirates\": 3, \"Austria\": 4, \"Germany\": 5, \"Greece\": 6, \"Italy\": 7, \"Turkey\": 8, \"Belgium\": 9, \"Egypt\": 10, \"France\": 11, \"Morocco\": 12, \"Spain\": 13, \"Switzerland\": 14, \"United Kingdom\": 15, \"South Africa\": 16, \"United States\": 17, \"Canada\": 18, \"Czech Republic\": 19, \"Ukraine\": 20, \"Netherlands\": 21, \"Thailand\": 22, \"Denmark\": 23, \"Qatar\": 24}"
   ]
  },
  {
   "cell_type": "markdown",
   "metadata": {},
   "source": [
    "Cargamos los datos"
   ]
  },
  {
   "cell_type": "code",
   "execution_count": 3,
   "metadata": {},
   "outputs": [],
   "source": [
    "df_train = pd.read_csv(\"data/train.csv\")\n",
    "df_test = pd.read_csv(\"data/test.csv\")"
   ]
  },
  {
   "cell_type": "markdown",
   "metadata": {},
   "source": [
    "Obtenemos informacion basica del tipo de datos que contiene el dataset con la funcion *info()*."
   ]
  },
  {
   "cell_type": "code",
   "execution_count": 4,
   "metadata": {
    "scrolled": false
   },
   "outputs": [
    {
     "name": "stdout",
     "output_type": "stream",
     "text": [
      "<class 'pandas.core.frame.DataFrame'>\n",
      "RangeIndex: 276982 entries, 0 to 276981\n",
      "Data columns (total 8 columns):\n",
      " #   Column                 Non-Null Count   Dtype \n",
      "---  ------                 --------------   ----- \n",
      " 0   Date                   276982 non-null  object\n",
      " 1   Origin Country         276982 non-null  object\n",
      " 2   Origin Continent       276982 non-null  object\n",
      " 3   Destination Country    276982 non-null  int64 \n",
      " 4   Destination Continent  276982 non-null  object\n",
      " 5   Total flights          276982 non-null  object\n",
      " 6   Total seats            276982 non-null  object\n",
      " 7   Total ASKs             276982 non-null  object\n",
      "dtypes: int64(1), object(7)\n",
      "memory usage: 16.9+ MB\n"
     ]
    }
   ],
   "source": [
    "df_train.info()"
   ]
  },
  {
   "cell_type": "markdown",
   "metadata": {},
   "source": [
    "Información disponible en el dataset:\n",
    "\n",
    "* **Date:** Flight date.\n",
    "* **Origin_Country:** Country of origin.\n",
    "* **Origin_Continent:** Continent of origin.\n",
    "* **Destination_Country:** Country of destination.\n",
    "* **Destination_Continent:** Destination continent.\n",
    "* **Total_flights:** Total number of flights.\n",
    "* **Total_seats:** Total number of seats.\n",
    "* **Total_ASKs (Available Seat Kilometer):**. Total seat numbers available by the total number of km these seats have flown.  "
   ]
  },
  {
   "cell_type": "markdown",
   "metadata": {},
   "source": [
    "Utilizamos la función *head()* para visualizar las primeras filas de datos de la estructura del dataset"
   ]
  },
  {
   "cell_type": "code",
   "execution_count": 5,
   "metadata": {
    "scrolled": false
   },
   "outputs": [
    {
     "data": {
      "text/html": [
       "<div>\n",
       "<style scoped>\n",
       "    .dataframe tbody tr th:only-of-type {\n",
       "        vertical-align: middle;\n",
       "    }\n",
       "\n",
       "    .dataframe tbody tr th {\n",
       "        vertical-align: top;\n",
       "    }\n",
       "\n",
       "    .dataframe thead th {\n",
       "        text-align: right;\n",
       "    }\n",
       "</style>\n",
       "<table border=\"1\" class=\"dataframe\">\n",
       "  <thead>\n",
       "    <tr style=\"text-align: right;\">\n",
       "      <th></th>\n",
       "      <th>Date</th>\n",
       "      <th>Origin Country</th>\n",
       "      <th>Origin Continent</th>\n",
       "      <th>Destination Country</th>\n",
       "      <th>Destination Continent</th>\n",
       "      <th>Total flights</th>\n",
       "      <th>Total seats</th>\n",
       "      <th>Total ASKs</th>\n",
       "    </tr>\n",
       "  </thead>\n",
       "  <tbody>\n",
       "    <tr>\n",
       "      <th>0</th>\n",
       "      <td>Jul 2009</td>\n",
       "      <td>United Kingdom</td>\n",
       "      <td>Europe</td>\n",
       "      <td>13</td>\n",
       "      <td>Europe</td>\n",
       "      <td>9,032</td>\n",
       "      <td>1,531,683</td>\n",
       "      <td>2,447,559,137</td>\n",
       "    </tr>\n",
       "    <tr>\n",
       "      <th>1</th>\n",
       "      <td>Apr 2008</td>\n",
       "      <td>Lebanon</td>\n",
       "      <td>Middle East</td>\n",
       "      <td>9</td>\n",
       "      <td>Europe</td>\n",
       "      <td>5</td>\n",
       "      <td>760</td>\n",
       "      <td>2,389,940</td>\n",
       "    </tr>\n",
       "    <tr>\n",
       "      <th>2</th>\n",
       "      <td>Apr 2005</td>\n",
       "      <td>Switzerland</td>\n",
       "      <td>Europe</td>\n",
       "      <td>11</td>\n",
       "      <td>Europe</td>\n",
       "      <td>1,471</td>\n",
       "      <td>158,661</td>\n",
       "      <td>66,533,450</td>\n",
       "    </tr>\n",
       "    <tr>\n",
       "      <th>3</th>\n",
       "      <td>Aug 2016</td>\n",
       "      <td>Israel</td>\n",
       "      <td>Middle East</td>\n",
       "      <td>19</td>\n",
       "      <td>Europe</td>\n",
       "      <td>117</td>\n",
       "      <td>23,366</td>\n",
       "      <td>61,557,637</td>\n",
       "    </tr>\n",
       "    <tr>\n",
       "      <th>4</th>\n",
       "      <td>Feb 2019</td>\n",
       "      <td>Albania</td>\n",
       "      <td>Europe</td>\n",
       "      <td>8</td>\n",
       "      <td>Europe</td>\n",
       "      <td>80</td>\n",
       "      <td>12,854</td>\n",
       "      <td>9,837,347</td>\n",
       "    </tr>\n",
       "  </tbody>\n",
       "</table>\n",
       "</div>"
      ],
      "text/plain": [
       "       Date  Origin Country Origin Continent  Destination Country  \\\n",
       "0  Jul 2009  United Kingdom           Europe                   13   \n",
       "1  Apr 2008         Lebanon      Middle East                    9   \n",
       "2  Apr 2005     Switzerland           Europe                   11   \n",
       "3  Aug 2016          Israel      Middle East                   19   \n",
       "4  Feb 2019         Albania           Europe                    8   \n",
       "\n",
       "  Destination Continent Total flights Total seats     Total ASKs  \n",
       "0                Europe         9,032   1,531,683  2,447,559,137  \n",
       "1                Europe             5         760      2,389,940  \n",
       "2                Europe         1,471     158,661     66,533,450  \n",
       "3                Europe           117      23,366     61,557,637  \n",
       "4                Europe            80      12,854      9,837,347  "
      ]
     },
     "execution_count": 5,
     "metadata": {},
     "output_type": "execute_result"
    }
   ],
   "source": [
    "df_train.head(5)"
   ]
  },
  {
   "cell_type": "markdown",
   "metadata": {},
   "source": [
    "#### Aplicamos formato a Date"
   ]
  },
  {
   "cell_type": "code",
   "execution_count": 6,
   "metadata": {},
   "outputs": [],
   "source": [
    "df_train[['Month', 'Year']] = df_train['Date'].str.rsplit(pat=' ', n=1, expand=True)\n",
    "df_train = df_train.drop('Date', axis=1)\n",
    "\n",
    "df_test[['Month', 'Year']] = df_test['Date'].str.rsplit(pat=' ', n=1, expand=True)\n",
    "df_test = df_test.drop('Date', axis=1)"
   ]
  },
  {
   "cell_type": "markdown",
   "metadata": {},
   "source": [
    "#### Transformación de datos"
   ]
  },
  {
   "cell_type": "code",
   "execution_count": 7,
   "metadata": {},
   "outputs": [],
   "source": [
    "df_train['Year'] = df_train['Year'].astype(np.int64)\n",
    "df_train['Total flights'] = df_train['Total flights'].str.replace(\",\",\"\").astype(np.int64)\n",
    "df_train['Total seats'] = df_train['Total seats'].str.replace(\",\",\"\").astype(np.int64)\n",
    "df_train['Total ASKs'] = df_train['Total ASKs'].str.replace(\",\",\"\").astype(np.int64)\n",
    "\n",
    "df_test['Year'] = df_test['Year'].astype(np.int64)\n",
    "df_test['Total flights'] = df_test['Total flights'].str.replace(\",\",\"\").astype(np.int64)\n",
    "df_test['Total seats'] = df_test['Total seats'].str.replace(\",\",\"\").astype(np.int64)\n",
    "df_test['Total ASKs'] = df_test['Total ASKs'].str.replace(\",\",\"\").astype(np.int64)"
   ]
  },
  {
   "cell_type": "markdown",
   "metadata": {},
   "source": [
    "#### Encoding Continents"
   ]
  },
  {
   "cell_type": "code",
   "execution_count": 8,
   "metadata": {},
   "outputs": [],
   "source": [
    "continent_map = {'Europe': 1, 'Middle East': 2, 'Caribbean': 3, 'Asia': 4, 'North America': 5, 'Africa': 6, 'South America': 7, 'Central America': 8, 'Australasia': 9}"
   ]
  },
  {
   "cell_type": "code",
   "execution_count": 9,
   "metadata": {},
   "outputs": [],
   "source": [
    "df_train['Origin Continent'] = df_train['Origin Continent'].map(continent_map)\n",
    "df_train['Destination Continent'] = df_train['Destination Continent'].map(continent_map)\n",
    "\n",
    "df_test['Origin Continent'] = df_test['Origin Continent'].map(continent_map)\n",
    "df_test['Destination Continent'] = df_test['Destination Continent'].map(continent_map)"
   ]
  },
  {
   "cell_type": "markdown",
   "metadata": {},
   "source": [
    "#### Enconding Month"
   ]
  },
  {
   "cell_type": "code",
   "execution_count": 10,
   "metadata": {},
   "outputs": [],
   "source": [
    "month_map = {'Jan': 1, 'Feb': 2, 'Mar': 3, 'Apr': 4, 'May': 5, 'Jun': 6, 'Jul': 7, 'Aug': 8, 'Sep': 9, 'Oct': 10, 'Nov': 11, 'Dec': 12}"
   ]
  },
  {
   "cell_type": "code",
   "execution_count": 11,
   "metadata": {},
   "outputs": [],
   "source": [
    "df_train['Month'] = df_train['Month'].map(month_map)\n",
    "df_test['Month'] = df_test['Month'].map(month_map)"
   ]
  },
  {
   "cell_type": "markdown",
   "metadata": {},
   "source": [
    "#### Adding columns"
   ]
  },
  {
   "cell_type": "markdown",
   "metadata": {},
   "source": [
    "* **Km:** Distance flown"
   ]
  },
  {
   "cell_type": "code",
   "execution_count": 12,
   "metadata": {},
   "outputs": [],
   "source": [
    "df_train['Km'] = (df_train['Total ASKs'] / df_train['Total seats'])\n",
    "df_test['Km'] = (df_test['Total ASKs'] / df_test['Total seats'])"
   ]
  },
  {
   "cell_type": "markdown",
   "metadata": {},
   "source": [
    "* **Eficiencia del avión:**"
   ]
  },
  {
   "cell_type": "code",
   "execution_count": 13,
   "metadata": {},
   "outputs": [],
   "source": [
    "df_train['Eficiencia'] = df_train['Total flights'] / df_train['Km']\n",
    "df_test['Eficiencia'] = df_test['Total flights'] / df_test['Km']"
   ]
  },
  {
   "cell_type": "code",
   "execution_count": 14,
   "metadata": {},
   "outputs": [],
   "source": [
    "df_train = df_train.fillna(0.0)\n",
    "df_test = df_test.fillna(0.0)"
   ]
  },
  {
   "cell_type": "code",
   "execution_count": 15,
   "metadata": {
    "scrolled": true
   },
   "outputs": [
    {
     "data": {
      "text/html": [
       "<div>\n",
       "<style scoped>\n",
       "    .dataframe tbody tr th:only-of-type {\n",
       "        vertical-align: middle;\n",
       "    }\n",
       "\n",
       "    .dataframe tbody tr th {\n",
       "        vertical-align: top;\n",
       "    }\n",
       "\n",
       "    .dataframe thead th {\n",
       "        text-align: right;\n",
       "    }\n",
       "</style>\n",
       "<table border=\"1\" class=\"dataframe\">\n",
       "  <thead>\n",
       "    <tr style=\"text-align: right;\">\n",
       "      <th></th>\n",
       "      <th>Origin Country</th>\n",
       "      <th>Origin Continent</th>\n",
       "      <th>Destination Continent</th>\n",
       "      <th>Total flights</th>\n",
       "      <th>Total seats</th>\n",
       "      <th>Total ASKs</th>\n",
       "      <th>Month</th>\n",
       "      <th>Year</th>\n",
       "      <th>Km</th>\n",
       "      <th>Eficiencia</th>\n",
       "    </tr>\n",
       "  </thead>\n",
       "  <tbody>\n",
       "    <tr>\n",
       "      <th>0</th>\n",
       "      <td>Russian Federation</td>\n",
       "      <td>1</td>\n",
       "      <td>1</td>\n",
       "      <td>168</td>\n",
       "      <td>18269</td>\n",
       "      <td>30375905</td>\n",
       "      <td>2</td>\n",
       "      <td>2006</td>\n",
       "      <td>1662.702118</td>\n",
       "      <td>0.101040</td>\n",
       "    </tr>\n",
       "    <tr>\n",
       "      <th>1</th>\n",
       "      <td>Czech Republic</td>\n",
       "      <td>1</td>\n",
       "      <td>1</td>\n",
       "      <td>211</td>\n",
       "      <td>38974</td>\n",
       "      <td>63519202</td>\n",
       "      <td>4</td>\n",
       "      <td>2017</td>\n",
       "      <td>1629.784010</td>\n",
       "      <td>0.129465</td>\n",
       "    </tr>\n",
       "    <tr>\n",
       "      <th>2</th>\n",
       "      <td>United Kingdom</td>\n",
       "      <td>1</td>\n",
       "      <td>4</td>\n",
       "      <td>459</td>\n",
       "      <td>129105</td>\n",
       "      <td>924093500</td>\n",
       "      <td>9</td>\n",
       "      <td>2014</td>\n",
       "      <td>7157.689478</td>\n",
       "      <td>0.064127</td>\n",
       "    </tr>\n",
       "    <tr>\n",
       "      <th>3</th>\n",
       "      <td>United Kingdom</td>\n",
       "      <td>1</td>\n",
       "      <td>1</td>\n",
       "      <td>3607</td>\n",
       "      <td>530792</td>\n",
       "      <td>680683678</td>\n",
       "      <td>8</td>\n",
       "      <td>2004</td>\n",
       "      <td>1282.392496</td>\n",
       "      <td>2.812711</td>\n",
       "    </tr>\n",
       "    <tr>\n",
       "      <th>4</th>\n",
       "      <td>Syria</td>\n",
       "      <td>2</td>\n",
       "      <td>1</td>\n",
       "      <td>35</td>\n",
       "      <td>5860</td>\n",
       "      <td>21011724</td>\n",
       "      <td>12</td>\n",
       "      <td>2010</td>\n",
       "      <td>3585.618430</td>\n",
       "      <td>0.009761</td>\n",
       "    </tr>\n",
       "  </tbody>\n",
       "</table>\n",
       "</div>"
      ],
      "text/plain": [
       "       Origin Country  Origin Continent  Destination Continent  Total flights  \\\n",
       "0  Russian Federation                 1                      1            168   \n",
       "1      Czech Republic                 1                      1            211   \n",
       "2      United Kingdom                 1                      4            459   \n",
       "3      United Kingdom                 1                      1           3607   \n",
       "4               Syria                 2                      1             35   \n",
       "\n",
       "   Total seats  Total ASKs  Month  Year           Km  Eficiencia  \n",
       "0        18269    30375905      2  2006  1662.702118    0.101040  \n",
       "1        38974    63519202      4  2017  1629.784010    0.129465  \n",
       "2       129105   924093500      9  2014  7157.689478    0.064127  \n",
       "3       530792   680683678      8  2004  1282.392496    2.812711  \n",
       "4         5860    21011724     12  2010  3585.618430    0.009761  "
      ]
     },
     "execution_count": 15,
     "metadata": {},
     "output_type": "execute_result"
    }
   ],
   "source": [
    "df_test.head()"
   ]
  },
  {
   "cell_type": "code",
   "execution_count": 16,
   "metadata": {
    "scrolled": false
   },
   "outputs": [
    {
     "name": "stdout",
     "output_type": "stream",
     "text": [
      "<class 'pandas.core.frame.DataFrame'>\n",
      "RangeIndex: 276982 entries, 0 to 276981\n",
      "Data columns (total 11 columns):\n",
      " #   Column                 Non-Null Count   Dtype  \n",
      "---  ------                 --------------   -----  \n",
      " 0   Origin Country         276982 non-null  object \n",
      " 1   Origin Continent       276982 non-null  int64  \n",
      " 2   Destination Country    276982 non-null  int64  \n",
      " 3   Destination Continent  276982 non-null  int64  \n",
      " 4   Total flights          276982 non-null  int64  \n",
      " 5   Total seats            276982 non-null  int64  \n",
      " 6   Total ASKs             276982 non-null  int64  \n",
      " 7   Month                  276982 non-null  int64  \n",
      " 8   Year                   276982 non-null  int64  \n",
      " 9   Km                     276982 non-null  float64\n",
      " 10  Eficiencia             276982 non-null  float64\n",
      "dtypes: float64(2), int64(8), object(1)\n",
      "memory usage: 23.2+ MB\n"
     ]
    }
   ],
   "source": [
    "df_train.info()"
   ]
  },
  {
   "cell_type": "markdown",
   "metadata": {},
   "source": [
    "<div class=\"alert alert-success h1\" role=\"alert\">\n",
    "    <b>Machine Learning: Classification</b>\n",
    "</div>"
   ]
  },
  {
   "cell_type": "markdown",
   "metadata": {},
   "source": [
    "### 1. Preprocesado"
   ]
  },
  {
   "cell_type": "code",
   "execution_count": 17,
   "metadata": {
    "scrolled": true
   },
   "outputs": [
    {
     "data": {
      "text/plain": [
       "Index(['Origin Country', 'Origin Continent', 'Destination Country',\n",
       "       'Destination Continent', 'Total flights', 'Total seats', 'Total ASKs',\n",
       "       'Month', 'Year', 'Km', 'Eficiencia'],\n",
       "      dtype='object')"
      ]
     },
     "execution_count": 17,
     "metadata": {},
     "output_type": "execute_result"
    }
   ],
   "source": [
    "df_train.columns"
   ]
  },
  {
   "cell_type": "code",
   "execution_count": 18,
   "metadata": {},
   "outputs": [
    {
     "data": {
      "text/html": [
       "<div>\n",
       "<style scoped>\n",
       "    .dataframe tbody tr th:only-of-type {\n",
       "        vertical-align: middle;\n",
       "    }\n",
       "\n",
       "    .dataframe tbody tr th {\n",
       "        vertical-align: top;\n",
       "    }\n",
       "\n",
       "    .dataframe thead th {\n",
       "        text-align: right;\n",
       "    }\n",
       "</style>\n",
       "<table border=\"1\" class=\"dataframe\">\n",
       "  <thead>\n",
       "    <tr style=\"text-align: right;\">\n",
       "      <th></th>\n",
       "      <th>Origin Country</th>\n",
       "      <th>Origin Continent</th>\n",
       "      <th>Destination Country</th>\n",
       "      <th>Destination Continent</th>\n",
       "      <th>Total flights</th>\n",
       "      <th>Total seats</th>\n",
       "      <th>Total ASKs</th>\n",
       "      <th>Month</th>\n",
       "      <th>Year</th>\n",
       "      <th>Km</th>\n",
       "      <th>Eficiencia</th>\n",
       "    </tr>\n",
       "  </thead>\n",
       "  <tbody>\n",
       "    <tr>\n",
       "      <th>0</th>\n",
       "      <td>United Kingdom</td>\n",
       "      <td>1</td>\n",
       "      <td>13</td>\n",
       "      <td>1</td>\n",
       "      <td>9032</td>\n",
       "      <td>1531683</td>\n",
       "      <td>2447559137</td>\n",
       "      <td>7</td>\n",
       "      <td>2009</td>\n",
       "      <td>1597.954105</td>\n",
       "      <td>5.652227</td>\n",
       "    </tr>\n",
       "    <tr>\n",
       "      <th>1</th>\n",
       "      <td>Lebanon</td>\n",
       "      <td>2</td>\n",
       "      <td>9</td>\n",
       "      <td>1</td>\n",
       "      <td>5</td>\n",
       "      <td>760</td>\n",
       "      <td>2389940</td>\n",
       "      <td>4</td>\n",
       "      <td>2008</td>\n",
       "      <td>3144.657895</td>\n",
       "      <td>0.001590</td>\n",
       "    </tr>\n",
       "    <tr>\n",
       "      <th>2</th>\n",
       "      <td>Switzerland</td>\n",
       "      <td>1</td>\n",
       "      <td>11</td>\n",
       "      <td>1</td>\n",
       "      <td>1471</td>\n",
       "      <td>158661</td>\n",
       "      <td>66533450</td>\n",
       "      <td>4</td>\n",
       "      <td>2005</td>\n",
       "      <td>419.343443</td>\n",
       "      <td>3.507865</td>\n",
       "    </tr>\n",
       "    <tr>\n",
       "      <th>3</th>\n",
       "      <td>Israel</td>\n",
       "      <td>2</td>\n",
       "      <td>19</td>\n",
       "      <td>1</td>\n",
       "      <td>117</td>\n",
       "      <td>23366</td>\n",
       "      <td>61557637</td>\n",
       "      <td>8</td>\n",
       "      <td>2016</td>\n",
       "      <td>2634.496148</td>\n",
       "      <td>0.044411</td>\n",
       "    </tr>\n",
       "    <tr>\n",
       "      <th>4</th>\n",
       "      <td>Albania</td>\n",
       "      <td>1</td>\n",
       "      <td>8</td>\n",
       "      <td>1</td>\n",
       "      <td>80</td>\n",
       "      <td>12854</td>\n",
       "      <td>9837347</td>\n",
       "      <td>2</td>\n",
       "      <td>2019</td>\n",
       "      <td>765.314066</td>\n",
       "      <td>0.104532</td>\n",
       "    </tr>\n",
       "  </tbody>\n",
       "</table>\n",
       "</div>"
      ],
      "text/plain": [
       "   Origin Country  Origin Continent  Destination Country  \\\n",
       "0  United Kingdom                 1                   13   \n",
       "1         Lebanon                 2                    9   \n",
       "2     Switzerland                 1                   11   \n",
       "3          Israel                 2                   19   \n",
       "4         Albania                 1                    8   \n",
       "\n",
       "   Destination Continent  Total flights  Total seats  Total ASKs  Month  Year  \\\n",
       "0                      1           9032      1531683  2447559137      7  2009   \n",
       "1                      1              5          760     2389940      4  2008   \n",
       "2                      1           1471       158661    66533450      4  2005   \n",
       "3                      1            117        23366    61557637      8  2016   \n",
       "4                      1             80        12854     9837347      2  2019   \n",
       "\n",
       "            Km  Eficiencia  \n",
       "0  1597.954105    5.652227  \n",
       "1  3144.657895    0.001590  \n",
       "2   419.343443    3.507865  \n",
       "3  2634.496148    0.044411  \n",
       "4   765.314066    0.104532  "
      ]
     },
     "execution_count": 18,
     "metadata": {},
     "output_type": "execute_result"
    }
   ],
   "source": [
    "df_train.head()"
   ]
  },
  {
   "cell_type": "code",
   "execution_count": 19,
   "metadata": {},
   "outputs": [
    {
     "data": {
      "image/png": "[encoded data removed]",
      "text/plain": [
       "<Figure size 648x360 with 9 Axes>"
      ]
     },
     "metadata": {
      "needs_background": "light"
     },
     "output_type": "display_data"
    }
   ],
   "source": [
    "fig, axes = plt.subplots(nrows=3, ncols=3, figsize=(9, 5))\n",
    "axes = axes.flat\n",
    "columnas_numeric = df_train.select_dtypes(include=['float64', 'int']).columns\n",
    "columnas_numeric = columnas_numeric.drop('Destination Country')\n",
    "\n",
    "for i, colum in enumerate(columnas_numeric):\n",
    "    sns.histplot(\n",
    "        data    = df_train,\n",
    "        x       = colum,\n",
    "        stat    = \"count\",\n",
    "        kde     = True,\n",
    "        color   = (list(plt.rcParams['axes.prop_cycle'])*2)[i][\"color\"],\n",
    "        line_kws= {'linewidth': 2},\n",
    "        alpha   = 0.3,\n",
    "        ax      = axes[i]\n",
    "    )\n",
    "    axes[i].set_title(colum, fontsize = 7, fontweight = \"bold\")\n",
    "    axes[i].tick_params(labelsize = 6)\n",
    "    axes[i].set_xlabel(\"\")\n",
    "    \n",
    "    \n",
    "fig.tight_layout()\n",
    "plt.subplots_adjust(top = 0.9)\n",
    "fig.suptitle('Distribución variables numéricas', fontsize = 10, fontweight = \"bold\");"
   ]
  },
  {
   "cell_type": "markdown",
   "metadata": {},
   "source": [
    "#### 1.1. Datos numéricos\n",
    "Primero comprobaremos si el conjunto de datos se presentan una distribución normal y, por lo tanto, podemos aplicar la estandarización en los datos."
   ]
  },
  {
   "cell_type": "code",
   "execution_count": 20,
   "metadata": {},
   "outputs": [
    {
     "data": {
      "text/plain": [
       "Index(['Origin Country', 'Origin Continent', 'Destination Country',\n",
       "       'Destination Continent', 'Total flights', 'Total seats', 'Total ASKs',\n",
       "       'Month', 'Year', 'Km', 'Eficiencia'],\n",
       "      dtype='object')"
      ]
     },
     "execution_count": 20,
     "metadata": {},
     "output_type": "execute_result"
    }
   ],
   "source": [
    "df_train.columns"
   ]
  },
  {
   "cell_type": "code",
   "execution_count": 21,
   "metadata": {},
   "outputs": [],
   "source": [
    "numeric_features = ['Total flights','Total seats','Total ASKs', 'Km', 'Eficiencia']\n",
    "numeric_transformer = Pipeline(\n",
    "    [\n",
    "        ('imputer_num', SimpleImputer(strategy = 'median')),\n",
    "        ('robust', RobustScaler())\n",
    "    ]\n",
    ")\n",
    "\n",
    "numeric_features_minmax = ['Year', 'Origin Continent', 'Destination Continent']\n",
    "numeric_transformer_minmax = Pipeline(\n",
    "    [\n",
    "        ('imputer_num', SimpleImputer(strategy = 'median')),\n",
    "        ('minmax', MinMaxScaler())\n",
    "    ]\n",
    ")"
   ]
  },
  {
   "cell_type": "markdown",
   "metadata": {},
   "source": [
    "#### 1.2. Datos categóricos"
   ]
  },
  {
   "cell_type": "code",
   "execution_count": 22,
   "metadata": {},
   "outputs": [],
   "source": [
    "categorical_features = ['Origin Country']\n",
    "categorical_transformer = Pipeline(\n",
    "    [\n",
    "        ('imputer_cat', SimpleImputer(strategy = 'most_frequent', fill_value = 'missing')),\n",
    "        ('onehot', OneHotEncoder(handle_unknown = 'ignore'))\n",
    "    ]\n",
    ")"
   ]
  },
  {
   "cell_type": "markdown",
   "metadata": {},
   "source": [
    "#### 1.3. Otros datos"
   ]
  },
  {
   "cell_type": "code",
   "execution_count": 23,
   "metadata": {},
   "outputs": [],
   "source": [
    "origin_countries = df_train['Origin Country'].sort_values(ascending=True).unique()"
   ]
  },
  {
   "cell_type": "code",
   "execution_count": 24,
   "metadata": {},
   "outputs": [],
   "source": [
    "country = {country: i+1 for i, country in enumerate(origin_countries)}"
   ]
  },
  {
   "cell_type": "code",
   "execution_count": 25,
   "metadata": {},
   "outputs": [],
   "source": [
    "#df_train['Origin Country'] = df_train['Origin Country'].map(country)\n",
    "#df_test['Origin Country'] = df_test['Origin Country'].map(country)"
   ]
  },
  {
   "cell_type": "markdown",
   "metadata": {},
   "source": [
    "#### 1.3 Pipeline"
   ]
  },
  {
   "cell_type": "code",
   "execution_count": 26,
   "metadata": {},
   "outputs": [],
   "source": [
    "preprocessor = ColumnTransformer(\n",
    "    [\n",
    "        #('Origin Country', CustomTransformer(),'Origin Country'),\n",
    "        ('categoricals', categorical_transformer, categorical_features),\n",
    "        ('numericals', numeric_transformer, numeric_features),\n",
    "        ('numericals_minmax', numeric_transformer_minmax, numeric_features_minmax),\n",
    "        \n",
    "    ],\n",
    "    remainder = 'drop'\n",
    ")"
   ]
  },
  {
   "cell_type": "markdown",
   "metadata": {},
   "source": [
    "### 2. Test/Train\n",
    "Para poder cuantificar de forma correcta nuestro modelo, se necesita disponer de un conjunto de observaciones. Con esta finalidad, se dividirán los datos disponibles en un **conjunto de entrenamiento** y un **conjunto de validación**.\n",
    "\n",
    "El tamaño adecuado de las particiones depende en gran medida de la cantidad de datos disponibles, en este caso, para agilizar el proceso dado el gran volumen de datos y para evitar el *overfiting*, se ha extraido aleatoria una sample representativa del conjunto de datos. "
   ]
  },
  {
   "cell_type": "code",
   "execution_count": 27,
   "metadata": {},
   "outputs": [],
   "source": [
    "data = df_train.sample(n=50000)"
   ]
  },
  {
   "cell_type": "code",
   "execution_count": 28,
   "metadata": {},
   "outputs": [],
   "source": [
    "# Define the target variable and the features\n",
    "X = data.drop(['Destination Country'], axis=1) #features\n",
    "y = data['Destination Country'] #target"
   ]
  },
  {
   "cell_type": "code",
   "execution_count": 29,
   "metadata": {},
   "outputs": [
    {
     "data": {
      "text/plain": [
       "11    3305\n",
       "15    2911\n",
       "5     2889\n",
       "2     2859\n",
       "17    2854\n",
       "8     2517\n",
       "3     2517\n",
       "7     2479\n",
       "21    2317\n",
       "13    2165\n",
       "4     1840\n",
       "18    1828\n",
       "0     1786\n",
       "14    1746\n",
       "9     1719\n",
       "24    1661\n",
       "22    1641\n",
       "10    1519\n",
       "1     1509\n",
       "19    1345\n",
       "6     1343\n",
       "20    1341\n",
       "23    1306\n",
       "12    1306\n",
       "16    1297\n",
       "Name: Destination Country, dtype: int64"
      ]
     },
     "execution_count": 29,
     "metadata": {},
     "output_type": "execute_result"
    }
   ],
   "source": [
    "y.value_counts()"
   ]
  },
  {
   "cell_type": "code",
   "execution_count": 30,
   "metadata": {},
   "outputs": [
    {
     "name": "stdout",
     "output_type": "stream",
     "text": [
      "(40000, 10) (10000, 10) (40000,) (10000,)\n"
     ]
    }
   ],
   "source": [
    "# split into train test sets\n",
    "X_train, X_valid, y_train, y_valid = train_test_split(X, y, test_size=0.2, random_state=42)\n",
    "print(X_train.shape, X_valid.shape, y_train.shape, y_valid.shape)"
   ]
  },
  {
   "cell_type": "markdown",
   "metadata": {},
   "source": [
    "### 3. Modelo\n",
    "Buscamos el mejor modelo"
   ]
  },
  {
   "cell_type": "code",
   "execution_count": 31,
   "metadata": {},
   "outputs": [],
   "source": [
    "knc = KNeighborsClassifier()\n",
    "dtc = DecisionTreeClassifier(random_state = 42)\n",
    "rfc = RandomForestClassifier(random_state = 42)\n",
    "lr = LogisticRegression()"
   ]
  },
  {
   "cell_type": "code",
   "execution_count": 32,
   "metadata": {},
   "outputs": [],
   "source": [
    "evaluation = pd.DataFrame({'model':['knc','dtc','rfc','lr']})"
   ]
  },
  {
   "cell_type": "code",
   "execution_count": 33,
   "metadata": {},
   "outputs": [],
   "source": [
    "from sklearn.model_selection import cross_val_score\n",
    "\n",
    "models = [knc, dtc, rfc, lr]\n",
    "score_mean = []\n",
    "score_std = []\n",
    "\n",
    "for model in models:\n",
    "    pipeline = Pipeline(\n",
    "        [\n",
    "            ('preprocessing', preprocessor),\n",
    "            ('model', model)\n",
    "        ]\n",
    "    )\n",
    "    score = cross_val_score(pipeline, X, y, cv=5, scoring='f1_macro')\n",
    "    score_mean.append(score.mean())\n",
    "    score_std.append(score.std())"
   ]
  },
  {
   "cell_type": "code",
   "execution_count": 34,
   "metadata": {
    "scrolled": true
   },
   "outputs": [
    {
     "data": {
      "text/html": [
       "<div>\n",
       "<style scoped>\n",
       "    .dataframe tbody tr th:only-of-type {\n",
       "        vertical-align: middle;\n",
       "    }\n",
       "\n",
       "    .dataframe tbody tr th {\n",
       "        vertical-align: top;\n",
       "    }\n",
       "\n",
       "    .dataframe thead th {\n",
       "        text-align: right;\n",
       "    }\n",
       "</style>\n",
       "<table border=\"1\" class=\"dataframe\">\n",
       "  <thead>\n",
       "    <tr style=\"text-align: right;\">\n",
       "      <th></th>\n",
       "      <th>model</th>\n",
       "      <th>f1_cv</th>\n",
       "      <th>f1_std_cv</th>\n",
       "    </tr>\n",
       "  </thead>\n",
       "  <tbody>\n",
       "    <tr>\n",
       "      <th>0</th>\n",
       "      <td>knc</td>\n",
       "      <td>0.783935</td>\n",
       "      <td>0.004188</td>\n",
       "    </tr>\n",
       "    <tr>\n",
       "      <th>1</th>\n",
       "      <td>dtc</td>\n",
       "      <td>0.916910</td>\n",
       "      <td>0.004782</td>\n",
       "    </tr>\n",
       "    <tr>\n",
       "      <th>2</th>\n",
       "      <td>rfc</td>\n",
       "      <td>0.912208</td>\n",
       "      <td>0.002732</td>\n",
       "    </tr>\n",
       "    <tr>\n",
       "      <th>3</th>\n",
       "      <td>lr</td>\n",
       "      <td>0.060734</td>\n",
       "      <td>0.004200</td>\n",
       "    </tr>\n",
       "  </tbody>\n",
       "</table>\n",
       "</div>"
      ],
      "text/plain": [
       "  model     f1_cv  f1_std_cv\n",
       "0   knc  0.783935   0.004188\n",
       "1   dtc  0.916910   0.004782\n",
       "2   rfc  0.912208   0.002732\n",
       "3    lr  0.060734   0.004200"
      ]
     },
     "execution_count": 34,
     "metadata": {},
     "output_type": "execute_result"
    }
   ],
   "source": [
    "evaluation['f1_cv'] = score_mean\n",
    "evaluation['f1_std_cv'] = score_std\n",
    "evaluation"
   ]
  },
  {
   "cell_type": "markdown",
   "metadata": {},
   "source": [
    "Seleccionamos los modelos dtc y rfc para su evaluación"
   ]
  },
  {
   "cell_type": "markdown",
   "metadata": {},
   "source": [
    "### 4. Mejora parámetros en los modelos"
   ]
  },
  {
   "cell_type": "markdown",
   "metadata": {},
   "source": [
    "#### 4.1.1. Mejora parámetros en modelos: Decission Tree Classifier"
   ]
  },
  {
   "cell_type": "code",
   "execution_count": 35,
   "metadata": {
    "scrolled": true
   },
   "outputs": [
    {
     "name": "stdout",
     "output_type": "stream",
     "text": [
      "Best F1-score: 0.929\n",
      "\n",
      "Best parameter set: {'model__criterion': 'gini', 'model__max_depth': None, 'model__splitter': 'random'}\n",
      "\n",
      "Scores:               precision    recall  f1-score   support\n",
      "\n",
      "           0       1.00      1.00      1.00      1786\n",
      "           1       1.00      1.00      1.00      1509\n",
      "           2       1.00      1.00      1.00      2859\n",
      "           3       1.00      1.00      1.00      2517\n",
      "           4       1.00      1.00      1.00      1840\n",
      "           5       1.00      1.00      1.00      2889\n",
      "           6       1.00      1.00      1.00      1343\n",
      "           7       1.00      1.00      1.00      2479\n",
      "           8       1.00      1.00      1.00      2517\n",
      "           9       1.00      1.00      1.00      1719\n",
      "          10       1.00      1.00      1.00      1519\n",
      "          11       1.00      1.00      1.00      3305\n",
      "          12       1.00      1.00      1.00      1306\n",
      "          13       1.00      1.00      1.00      2165\n",
      "          14       1.00      1.00      1.00      1746\n",
      "          15       1.00      1.00      1.00      2911\n",
      "          16       1.00      1.00      1.00      1297\n",
      "          17       1.00      1.00      1.00      2854\n",
      "          18       1.00      1.00      1.00      1828\n",
      "          19       1.00      1.00      1.00      1345\n",
      "          20       1.00      1.00      1.00      1341\n",
      "          21       1.00      1.00      1.00      2317\n",
      "          22       1.00      1.00      1.00      1641\n",
      "          23       1.00      1.00      1.00      1306\n",
      "          24       1.00      1.00      1.00      1661\n",
      "\n",
      "    accuracy                           1.00     50000\n",
      "   macro avg       1.00      1.00      1.00     50000\n",
      "weighted avg       1.00      1.00      1.00     50000\n",
      "\n"
     ]
    }
   ],
   "source": [
    "pipeline = Pipeline(\n",
    "    [\n",
    "        ('preprocessing', preprocessor),\n",
    "        ('model', DecisionTreeClassifier(random_state = 42))\n",
    "    ]\n",
    ")\n",
    "\n",
    "params = { \n",
    "    'model__criterion':('gini', 'entropy'),\n",
    "    'model__splitter': ('best','random'), \n",
    "    'model__max_depth': [None,10,100]\n",
    "}\n",
    "\n",
    "rskf = RepeatedStratifiedKFold(n_splits = 5, n_repeats = 2, random_state = 42)\n",
    "\n",
    "cv = GridSearchCV(pipeline, params, cv = rskf, scoring = ['f1_macro'], refit = 'f1_macro', n_jobs = -1)\n",
    "\n",
    "\n",
    "\n",
    "cv.fit(X, y)\n",
    "\n",
    "print(f'Best F1-score: {cv.best_score_:.3f}\\n')\n",
    "print(f'Best parameter set: {cv.best_params_}\\n')\n",
    "print(f'Scores: {classification_report(y, cv.predict(X))}')"
   ]
  },
  {
   "cell_type": "code",
   "execution_count": 36,
   "metadata": {},
   "outputs": [
    {
     "name": "stdout",
     "output_type": "stream",
     "text": [
      "F1 score: 0.06\n"
     ]
    }
   ],
   "source": [
    "DecisionTreeClassifier()\n",
    "\n",
    "pipeline = Pipeline(\n",
    "    [\n",
    "        ('preprocessing', preprocessor),\n",
    "        ('model', DecisionTreeClassifier(criterion='gini', splitter='random', max_depth=None, random_state=42))\n",
    "    ]\n",
    ")\n",
    "\n",
    "score_dt_bp = cross_val_score(pipeline, X, y, cv=5, scoring='f1_macro')\n",
    "print('F1 score: {0:.2f}'.format(score.mean()))"
   ]
  },
  {
   "cell_type": "code",
   "execution_count": 37,
   "metadata": {},
   "outputs": [
    {
     "data": {
      "text/plain": [
       "{'mean_fit_time': array([2.08621392, 1.85885017, 0.92267401, 0.4839371 , 2.09296963,\n",
       "        1.88495138, 2.77652013, 1.67862668, 1.74233544, 0.51283858,\n",
       "        2.72180502, 1.68959191]),\n",
       " 'std_fit_time': array([0.04805836, 0.05982343, 0.02317407, 0.02407844, 0.05217241,\n",
       "        0.08431614, 0.02785499, 0.03083847, 0.0327258 , 0.0214668 ,\n",
       "        0.01466581, 0.06471602]),\n",
       " 'mean_score_time': array([0.03485239, 0.03620269, 0.03420246, 0.0362021 , 0.03700249,\n",
       "        0.03750279, 0.03560317, 0.03430233, 0.03420303, 0.03190222,\n",
       "        0.03300238, 0.03449223]),\n",
       " 'std_score_time': array([0.00114075, 0.00483345, 0.00373651, 0.00538133, 0.00605053,\n",
       "        0.00452232, 0.00349897, 0.00214677, 0.00487517, 0.00151403,\n",
       "        0.00109563, 0.00342401]),\n",
       " 'param_model__criterion': masked_array(data=['gini', 'gini', 'gini', 'gini', 'gini', 'gini',\n",
       "                    'entropy', 'entropy', 'entropy', 'entropy', 'entropy',\n",
       "                    'entropy'],\n",
       "              mask=[False, False, False, False, False, False, False, False,\n",
       "                    False, False, False, False],\n",
       "        fill_value='?',\n",
       "             dtype=object),\n",
       " 'param_model__max_depth': masked_array(data=[None, None, 10, 10, 100, 100, None, None, 10, 10, 100,\n",
       "                    100],\n",
       "              mask=[False, False, False, False, False, False, False, False,\n",
       "                    False, False, False, False],\n",
       "        fill_value='?',\n",
       "             dtype=object),\n",
       " 'param_model__splitter': masked_array(data=['best', 'random', 'best', 'random', 'best', 'random',\n",
       "                    'best', 'random', 'best', 'random', 'best', 'random'],\n",
       "              mask=[False, False, False, False, False, False, False, False,\n",
       "                    False, False, False, False],\n",
       "        fill_value='?',\n",
       "             dtype=object),\n",
       " 'params': [{'model__criterion': 'gini',\n",
       "   'model__max_depth': None,\n",
       "   'model__splitter': 'best'},\n",
       "  {'model__criterion': 'gini',\n",
       "   'model__max_depth': None,\n",
       "   'model__splitter': 'random'},\n",
       "  {'model__criterion': 'gini',\n",
       "   'model__max_depth': 10,\n",
       "   'model__splitter': 'best'},\n",
       "  {'model__criterion': 'gini',\n",
       "   'model__max_depth': 10,\n",
       "   'model__splitter': 'random'},\n",
       "  {'model__criterion': 'gini',\n",
       "   'model__max_depth': 100,\n",
       "   'model__splitter': 'best'},\n",
       "  {'model__criterion': 'gini',\n",
       "   'model__max_depth': 100,\n",
       "   'model__splitter': 'random'},\n",
       "  {'model__criterion': 'entropy',\n",
       "   'model__max_depth': None,\n",
       "   'model__splitter': 'best'},\n",
       "  {'model__criterion': 'entropy',\n",
       "   'model__max_depth': None,\n",
       "   'model__splitter': 'random'},\n",
       "  {'model__criterion': 'entropy',\n",
       "   'model__max_depth': 10,\n",
       "   'model__splitter': 'best'},\n",
       "  {'model__criterion': 'entropy',\n",
       "   'model__max_depth': 10,\n",
       "   'model__splitter': 'random'},\n",
       "  {'model__criterion': 'entropy',\n",
       "   'model__max_depth': 100,\n",
       "   'model__splitter': 'best'},\n",
       "  {'model__criterion': 'entropy',\n",
       "   'model__max_depth': 100,\n",
       "   'model__splitter': 'random'}],\n",
       " 'split0_test_f1_macro': array([0.91927679, 0.93399683, 0.47542981, 0.357738  , 0.91927679,\n",
       "        0.93399683, 0.91149676, 0.92332359, 0.54199351, 0.36172952,\n",
       "        0.91149676, 0.92332359]),\n",
       " 'split1_test_f1_macro': array([0.9146329 , 0.93132656, 0.47355312, 0.35049238, 0.9146329 ,\n",
       "        0.93132656, 0.91191691, 0.9291865 , 0.52064926, 0.35863765,\n",
       "        0.91191691, 0.9291865 ]),\n",
       " 'split2_test_f1_macro': array([0.91934044, 0.92988439, 0.47371809, 0.36085029, 0.91934044,\n",
       "        0.92988439, 0.91021133, 0.92707495, 0.53601341, 0.35301969,\n",
       "        0.91021133, 0.92707495]),\n",
       " 'split3_test_f1_macro': array([0.91296673, 0.92835924, 0.47594303, 0.35311373, 0.91296673,\n",
       "        0.92835924, 0.90727208, 0.92898378, 0.5498649 , 0.37282988,\n",
       "        0.90727208, 0.92898378]),\n",
       " 'split4_test_f1_macro': array([0.91814088, 0.93117343, 0.47178661, 0.41711108, 0.91814088,\n",
       "        0.93117343, 0.91596755, 0.92735689, 0.54291863, 0.40478963,\n",
       "        0.91596755, 0.92735689]),\n",
       " 'split5_test_f1_macro': array([0.917138  , 0.92790179, 0.47821604, 0.35301156, 0.917138  ,\n",
       "        0.92790179, 0.91078485, 0.93178117, 0.5311969 , 0.35439987,\n",
       "        0.91078485, 0.93178117]),\n",
       " 'split6_test_f1_macro': array([0.9161416 , 0.92380673, 0.48210687, 0.34944844, 0.9161416 ,\n",
       "        0.92380673, 0.91698883, 0.92466108, 0.54988509, 0.34159467,\n",
       "        0.91698883, 0.92466108]),\n",
       " 'split7_test_f1_macro': array([0.91457535, 0.92104157, 0.47145941, 0.34388635, 0.91457535,\n",
       "        0.92104157, 0.90982585, 0.92514395, 0.53418392, 0.36554541,\n",
       "        0.90982585, 0.92514395]),\n",
       " 'split8_test_f1_macro': array([0.91921512, 0.92808875, 0.47528629, 0.34168424, 0.91921512,\n",
       "        0.92808875, 0.9130912 , 0.92476375, 0.54568965, 0.36180629,\n",
       "        0.9130912 , 0.92476375]),\n",
       " 'split9_test_f1_macro': array([0.92050727, 0.93045325, 0.47610447, 0.35630651, 0.92050727,\n",
       "        0.93045325, 0.91897453, 0.93011857, 0.55148398, 0.35953831,\n",
       "        0.91897453, 0.93011857]),\n",
       " 'mean_test_f1_macro': array([0.91719351, 0.92860325, 0.47536037, 0.35836426, 0.91719351,\n",
       "        0.92860325, 0.91265299, 0.92723942, 0.54038793, 0.36338909,\n",
       "        0.91265299, 0.92723942]),\n",
       " 'std_test_f1_macro': array([0.00239377, 0.00359414, 0.00297533, 0.02036543, 0.00239377,\n",
       "        0.00359414, 0.00343827, 0.0026133 , 0.00933776, 0.01585488,\n",
       "        0.00343827, 0.0026133 ]),\n",
       " 'rank_test_f1_macro': array([ 5,  1, 10, 12,  5,  1,  7,  3,  9, 11,  7,  3])}"
      ]
     },
     "execution_count": 37,
     "metadata": {},
     "output_type": "execute_result"
    }
   ],
   "source": [
    "cv.cv_results_"
   ]
  },
  {
   "cell_type": "markdown",
   "metadata": {},
   "source": [
    "#### 4.2.1. Mejora parámetros en modelos: Random Forest"
   ]
  },
  {
   "cell_type": "code",
   "execution_count": 38,
   "metadata": {},
   "outputs": [
    {
     "name": "stdout",
     "output_type": "stream",
     "text": [
      "Best F1-score: 0.913\n",
      "\n",
      "Best parameter set: {'model__criterion': 'gini', 'model__max_depth': 100}\n",
      "\n",
      "Scores:               precision    recall  f1-score   support\n",
      "\n",
      "           0       1.00      1.00      1.00      1786\n",
      "           1       1.00      1.00      1.00      1509\n",
      "           2       1.00      1.00      1.00      2859\n",
      "           3       1.00      1.00      1.00      2517\n",
      "           4       1.00      1.00      1.00      1840\n",
      "           5       1.00      1.00      1.00      2889\n",
      "           6       1.00      1.00      1.00      1343\n",
      "           7       1.00      1.00      1.00      2479\n",
      "           8       1.00      1.00      1.00      2517\n",
      "           9       1.00      1.00      1.00      1719\n",
      "          10       1.00      1.00      1.00      1519\n",
      "          11       1.00      1.00      1.00      3305\n",
      "          12       1.00      1.00      1.00      1306\n",
      "          13       1.00      1.00      1.00      2165\n",
      "          14       1.00      1.00      1.00      1746\n",
      "          15       1.00      1.00      1.00      2911\n",
      "          16       1.00      1.00      1.00      1297\n",
      "          17       1.00      1.00      1.00      2854\n",
      "          18       1.00      1.00      1.00      1828\n",
      "          19       1.00      1.00      1.00      1345\n",
      "          20       1.00      1.00      1.00      1341\n",
      "          21       1.00      1.00      1.00      2317\n",
      "          22       1.00      1.00      1.00      1641\n",
      "          23       1.00      1.00      1.00      1306\n",
      "          24       1.00      1.00      1.00      1661\n",
      "\n",
      "    accuracy                           1.00     50000\n",
      "   macro avg       1.00      1.00      1.00     50000\n",
      "weighted avg       1.00      1.00      1.00     50000\n",
      "\n"
     ]
    }
   ],
   "source": [
    "pipeline = Pipeline(\n",
    "    [\n",
    "        ('preprocessing', preprocessor),\n",
    "        ('model', RandomForestClassifier(random_state = 42))\n",
    "    ]\n",
    ")\n",
    "\n",
    "params = {\n",
    "    'model__criterion':('gini', 'entropy'),\n",
    "    'model__max_depth': [0.1,10,100]\n",
    "}\n",
    "\n",
    "rskf = RepeatedStratifiedKFold(n_splits = 5, n_repeats = 2, random_state = 42)\n",
    "\n",
    "cv = GridSearchCV(pipeline, params, cv = rskf, scoring = ['f1_macro'], refit = 'f1_macro', n_jobs = -1)\n",
    "\n",
    "\n",
    "\n",
    "cv.fit(X, y)\n",
    "\n",
    "print(f'Best F1-score: {cv.best_score_:.3f}\\n')\n",
    "print(f'Best parameter set: {cv.best_params_}\\n')\n",
    "print(f'Scores: {classification_report(y, cv.predict(X))}')"
   ]
  },
  {
   "cell_type": "code",
   "execution_count": 39,
   "metadata": {},
   "outputs": [
    {
     "name": "stdout",
     "output_type": "stream",
     "text": [
      "F1 score: 0.91\n"
     ]
    }
   ],
   "source": [
    "from sklearn.metrics import f1_score\n",
    "\n",
    "pipeline = Pipeline(\n",
    "    [\n",
    "        ('preprocessing', preprocessor),\n",
    "        ('model', RandomForestClassifier(criterion = 'gini', \n",
    "                                         max_depth = 100, \n",
    "                                         random_state = 42))\n",
    "    ]\n",
    ")\n",
    "\n",
    "score = cross_val_score(pipeline, X, y, cv=5, scoring='f1_macro')\n",
    "print('F1 score: {0:.2f}'.format(score.mean()))"
   ]
  },
  {
   "cell_type": "code",
   "execution_count": 40,
   "metadata": {},
   "outputs": [],
   "source": [
    "evaluation['f1_best.param'] = [0, 'Nan', 0.917 , 0]"
   ]
  },
  {
   "cell_type": "code",
   "execution_count": 41,
   "metadata": {
    "scrolled": true
   },
   "outputs": [
    {
     "data": {
      "text/html": [
       "<div>\n",
       "<style scoped>\n",
       "    .dataframe tbody tr th:only-of-type {\n",
       "        vertical-align: middle;\n",
       "    }\n",
       "\n",
       "    .dataframe tbody tr th {\n",
       "        vertical-align: top;\n",
       "    }\n",
       "\n",
       "    .dataframe thead th {\n",
       "        text-align: right;\n",
       "    }\n",
       "</style>\n",
       "<table border=\"1\" class=\"dataframe\">\n",
       "  <thead>\n",
       "    <tr style=\"text-align: right;\">\n",
       "      <th></th>\n",
       "      <th>model</th>\n",
       "      <th>f1_cv</th>\n",
       "      <th>f1_std_cv</th>\n",
       "      <th>f1_best.param</th>\n",
       "    </tr>\n",
       "  </thead>\n",
       "  <tbody>\n",
       "    <tr>\n",
       "      <th>0</th>\n",
       "      <td>knc</td>\n",
       "      <td>0.783935</td>\n",
       "      <td>0.004188</td>\n",
       "      <td>0</td>\n",
       "    </tr>\n",
       "    <tr>\n",
       "      <th>1</th>\n",
       "      <td>dtc</td>\n",
       "      <td>0.916910</td>\n",
       "      <td>0.004782</td>\n",
       "      <td>Nan</td>\n",
       "    </tr>\n",
       "    <tr>\n",
       "      <th>2</th>\n",
       "      <td>rfc</td>\n",
       "      <td>0.912208</td>\n",
       "      <td>0.002732</td>\n",
       "      <td>0.917</td>\n",
       "    </tr>\n",
       "    <tr>\n",
       "      <th>3</th>\n",
       "      <td>lr</td>\n",
       "      <td>0.060734</td>\n",
       "      <td>0.004200</td>\n",
       "      <td>0</td>\n",
       "    </tr>\n",
       "  </tbody>\n",
       "</table>\n",
       "</div>"
      ],
      "text/plain": [
       "  model     f1_cv  f1_std_cv f1_best.param\n",
       "0   knc  0.783935   0.004188             0\n",
       "1   dtc  0.916910   0.004782           Nan\n",
       "2   rfc  0.912208   0.002732         0.917\n",
       "3    lr  0.060734   0.004200             0"
      ]
     },
     "execution_count": 41,
     "metadata": {},
     "output_type": "execute_result"
    }
   ],
   "source": [
    "evaluation"
   ]
  },
  {
   "cell_type": "markdown",
   "metadata": {},
   "source": [
    "A pesar de los buenos resultados en un inicio del modelo DecisionTree, finalmente ha sido descartado por la variabilidad de resultado los mismos. Por lo tanto, se seleccionamos le modelo modelo **RandomForestClassifier**."
   ]
  },
  {
   "cell_type": "markdown",
   "metadata": {},
   "source": [
    "### 5. Predicción"
   ]
  },
  {
   "cell_type": "code",
   "execution_count": 42,
   "metadata": {},
   "outputs": [],
   "source": [
    "# Train/Test division\n",
    "\n",
    "# Define the target variable and the features\n",
    "X_train = df_train.drop(['Destination Country'], axis=1) #features\n",
    "y_train = df_train['Destination Country'] #target\n",
    "\n",
    "X_test = df_test"
   ]
  },
  {
   "cell_type": "code",
   "execution_count": 43,
   "metadata": {},
   "outputs": [],
   "source": [
    "#Create a model\n",
    "rfc = RandomForestClassifier(criterion = 'gini', max_depth = 100, random_state = 42)\n",
    "\n",
    "# Pipeline y ColumnTransformer\n",
    "pipeline = Pipeline([\n",
    "            ('preprocessing', preprocessor),\n",
    "            ('model', rfc)\n",
    "        ])"
   ]
  },
  {
   "cell_type": "code",
   "execution_count": 44,
   "metadata": {},
   "outputs": [
    {
     "data": {
      "text/plain": [
       "Pipeline(steps=[('preprocessing',\n",
       "                 ColumnTransformer(transformers=[('categoricals',\n",
       "                                                  Pipeline(steps=[('imputer_cat',\n",
       "                                                                   SimpleImputer(fill_value='missing',\n",
       "                                                                                 strategy='most_frequent')),\n",
       "                                                                  ('onehot',\n",
       "                                                                   OneHotEncoder(handle_unknown='ignore'))]),\n",
       "                                                  ['Origin Country']),\n",
       "                                                 ('numericals',\n",
       "                                                  Pipeline(steps=[('imputer_num',\n",
       "                                                                   SimpleImputer(strategy='median')),\n",
       "                                                                  ('robust',\n",
       "                                                                   RobustScaler())]),\n",
       "                                                  ['Total flights',\n",
       "                                                   'Total seats', 'Total ASKs',\n",
       "                                                   'Km', 'Eficiencia']),\n",
       "                                                 ('numericals_minmax',\n",
       "                                                  Pipeline(steps=[('imputer_num',\n",
       "                                                                   SimpleImputer(strategy='median')),\n",
       "                                                                  ('minmax',\n",
       "                                                                   MinMaxScaler())]),\n",
       "                                                  ['Year', 'Origin Continent',\n",
       "                                                   'Destination Continent'])])),\n",
       "                ('model',\n",
       "                 RandomForestClassifier(max_depth=100, random_state=42))])"
      ]
     },
     "execution_count": 44,
     "metadata": {},
     "output_type": "execute_result"
    }
   ],
   "source": [
    "pipeline.fit(X_train, y_train)"
   ]
  },
  {
   "cell_type": "code",
   "execution_count": 45,
   "metadata": {},
   "outputs": [],
   "source": [
    "#Prediction\n",
    "y_pred = pipeline.predict(X_test)"
   ]
  },
  {
   "cell_type": "code",
   "execution_count": 46,
   "metadata": {},
   "outputs": [],
   "source": [
    "df_predicciones = pd.DataFrame({'target': y_pred})"
   ]
  },
  {
   "cell_type": "code",
   "execution_count": 47,
   "metadata": {},
   "outputs": [
    {
     "data": {
      "text/html": [
       "<div>\n",
       "<style scoped>\n",
       "    .dataframe tbody tr th:only-of-type {\n",
       "        vertical-align: middle;\n",
       "    }\n",
       "\n",
       "    .dataframe tbody tr th {\n",
       "        vertical-align: top;\n",
       "    }\n",
       "\n",
       "    .dataframe thead th {\n",
       "        text-align: right;\n",
       "    }\n",
       "</style>\n",
       "<table border=\"1\" class=\"dataframe\">\n",
       "  <thead>\n",
       "    <tr style=\"text-align: right;\">\n",
       "      <th></th>\n",
       "      <th>target</th>\n",
       "    </tr>\n",
       "  </thead>\n",
       "  <tbody>\n",
       "    <tr>\n",
       "      <th>0</th>\n",
       "      <td>4</td>\n",
       "    </tr>\n",
       "    <tr>\n",
       "      <th>1</th>\n",
       "      <td>8</td>\n",
       "    </tr>\n",
       "    <tr>\n",
       "      <th>2</th>\n",
       "      <td>1</td>\n",
       "    </tr>\n",
       "    <tr>\n",
       "      <th>3</th>\n",
       "      <td>7</td>\n",
       "    </tr>\n",
       "    <tr>\n",
       "      <th>4</th>\n",
       "      <td>15</td>\n",
       "    </tr>\n",
       "    <tr>\n",
       "      <th>...</th>\n",
       "      <td>...</td>\n",
       "    </tr>\n",
       "    <tr>\n",
       "      <th>69241</th>\n",
       "      <td>13</td>\n",
       "    </tr>\n",
       "    <tr>\n",
       "      <th>69242</th>\n",
       "      <td>12</td>\n",
       "    </tr>\n",
       "    <tr>\n",
       "      <th>69243</th>\n",
       "      <td>3</td>\n",
       "    </tr>\n",
       "    <tr>\n",
       "      <th>69244</th>\n",
       "      <td>10</td>\n",
       "    </tr>\n",
       "    <tr>\n",
       "      <th>69245</th>\n",
       "      <td>1</td>\n",
       "    </tr>\n",
       "  </tbody>\n",
       "</table>\n",
       "<p>69246 rows × 1 columns</p>\n",
       "</div>"
      ],
      "text/plain": [
       "       target\n",
       "0           4\n",
       "1           8\n",
       "2           1\n",
       "3           7\n",
       "4          15\n",
       "...       ...\n",
       "69241      13\n",
       "69242      12\n",
       "69243       3\n",
       "69244      10\n",
       "69245       1\n",
       "\n",
       "[69246 rows x 1 columns]"
      ]
     },
     "execution_count": 47,
     "metadata": {},
     "output_type": "execute_result"
    }
   ],
   "source": [
    "df_predicciones"
   ]
  },
  {
   "cell_type": "code",
   "execution_count": 48,
   "metadata": {},
   "outputs": [],
   "source": [
    "data = df_predicciones.to_dict()"
   ]
  },
  {
   "cell_type": "code",
   "execution_count": 49,
   "metadata": {},
   "outputs": [],
   "source": [
    "with open(\"target.json\", \"w\") as file:\n",
    "    json.dump(data, file)"
   ]
  }
 ],
 "metadata": {
  "kernelspec": {
   "display_name": "Python 3 (ipykernel)",
   "language": "python",
   "name": "python3"
  },
  "language_info": {
   "codemirror_mode": {
    "name": "ipython",
    "version": 3
   },
   "file_extension": ".py",
   "mimetype": "text/x-python",
   "name": "python",
   "nbconvert_exporter": "python",
   "pygments_lexer": "ipython3",
   "version": "3.9.12"
  },
  "toc": {
   "base_numbering": 1,
   "nav_menu": {},
   "number_sections": true,
   "sideBar": true,
   "skip_h1_title": true,
   "title_cell": "Table of Contents",
   "title_sidebar": "Contents",
   "toc_cell": true,
   "toc_position": {
    "height": "calc(100% - 180px)",
    "left": "10px",
    "top": "150px",
    "width": "190px"
   },
   "toc_section_display": true,
   "toc_window_display": true
  },
  "varInspector": {
   "cols": {
    "lenName": 16,
    "lenType": 16,
    "lenVar": 40
   },
   "kernels_config": {
    "python": {
     "delete_cmd_postfix": "",
     "delete_cmd_prefix": "del ",
     "library": "var_list.py",
     "varRefreshCmd": "print(var_dic_list())"
    },
    "r": {
     "delete_cmd_postfix": ") ",
     "delete_cmd_prefix": "rm(",
     "library": "var_list.r",
     "varRefreshCmd": "cat(var_dic_list()) "
    }
   },
   "types_to_exclude": [
    "module",
    "function",
    "builtin_function_or_method",
    "instance",
    "_Feature"
   ],
   "window_display": false
  }
 },
 "nbformat": 4,
 "nbformat_minor": 2
}
